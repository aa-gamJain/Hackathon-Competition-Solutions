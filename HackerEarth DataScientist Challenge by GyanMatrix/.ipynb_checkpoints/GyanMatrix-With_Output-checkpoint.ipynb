{
 "cells": [
  {
   "cell_type": "markdown",
   "metadata": {},
   "source": [
    "## Problems\n",
    "\n",
    "1. Analyze and list the platforms with the most \"Editor's Choice\" awards?\n",
    "2. Does number of games by a platform in a given year have any effect on these awards?\n",
    "3. What is Macintosh's average award count?\n",
    "4. What is the optimal month for releasing a game?\n",
    "5. Analyze the percentage growth in the gaming industry over the years.\n",
    "6. Use the data to build a predictive model to predict which games will get \"Editor's Choice\" awards in a given year?\n",
    "7. What attributes are the strongest predictors of whether a game will get an award?"
   ]
  },
  {
   "cell_type": "markdown",
   "metadata": {},
   "source": [
    "#### Please made the ign.csv file in the current working directory or edit its data_path"
   ]
  },
  {
   "cell_type": "code",
   "execution_count": 1,
   "metadata": {
    "collapsed": false
   },
   "outputs": [
    {
     "name": "stdout",
     "output_type": "stream",
     "text": [
      "Data Dimensions:  (18625, 11)\n",
      "Number of Null values in columns:  Unnamed: 0         0\n",
      "score_phrase       0\n",
      "title              0\n",
      "url                0\n",
      "platform           0\n",
      "score              0\n",
      "genre             36\n",
      "editors_choice     0\n",
      "release_year       0\n",
      "release_month      0\n",
      "release_day        0\n",
      "dtype: int64\n"
     ]
    }
   ],
   "source": [
    "import numpy as np\n",
    "import pandas as pd\n",
    "import matplotlib.pyplot as plt\n",
    "%matplotlib inline\n",
    "import seaborn as sns; sns.set()\n",
    "import warnings\n",
    "warnings.filterwarnings(\"ignore\")\n",
    "data_path = './'\n",
    "data = pd.read_csv(data_path+'ign.csv')\n",
    "\n",
    "print 'Data Dimensions: ',data.shape\n",
    "print 'Number of Null values in columns: ', data[data.columns].isnull().sum()"
   ]
  },
  {
   "cell_type": "markdown",
   "metadata": {},
   "source": [
    "## Problem 1 \n",
    "\n",
    "Analyze and list the platforms with the most **Editor's Choice** awards?"
   ]
  },
  {
   "cell_type": "code",
   "execution_count": 2,
   "metadata": {
    "collapsed": false
   },
   "outputs": [
    {
     "data": {
      "text/plain": [
       "platform\n",
       "Android              4\n",
       "Arcade               1\n",
       "Dreamcast           59\n",
       "Game Boy             2\n",
       "Game Boy Advance    99\n",
       "dtype: int64"
      ]
     },
     "execution_count": 2,
     "metadata": {},
     "output_type": "execute_result"
    }
   ],
   "source": [
    "most_awards = data['editors_choice'][data['editors_choice']=='Y'].groupby(data['platform']).count()\n",
    "most_awards.head()"
   ]
  },
  {
   "cell_type": "code",
   "execution_count": 3,
   "metadata": {
    "collapsed": false
   },
   "outputs": [
    {
     "data": {
      "text/plain": [
       "platform\n",
       "PC               679\n",
       "Xbox 360         366\n",
       "PlayStation 3    342\n",
       "PlayStation 2    314\n",
       "Wireless         268\n",
       "dtype: int64"
      ]
     },
     "execution_count": 3,
     "metadata": {},
     "output_type": "execute_result"
    }
   ],
   "source": [
    "most_awards.sort_values(ascending=False).head()"
   ]
  },
  {
   "cell_type": "code",
   "execution_count": 4,
   "metadata": {
    "collapsed": false
   },
   "outputs": [
    {
     "data": {
      "text/plain": [
       "Index([u'PC', u'Xbox 360', u'PlayStation 3', u'PlayStation 2', u'Wireless',\n",
       "       u'Xbox', u'Wii', u'iPhone', u'PlayStation', u'GameCube', u'Nintendo DS',\n",
       "       u'Game Boy Advance', u'PlayStation Portable', u'PlayStation 4',\n",
       "       u'Dreamcast', u'Nintendo 3DS', u'Xbox One', u'Nintendo 64',\n",
       "       u'Macintosh', u'PlayStation Vita', u'Game Boy Color', u'iPad', u'Wii U',\n",
       "       u'Nintendo DSi', u'Super NES', u'NES', u'N-Gage', u'Genesis',\n",
       "       u'NeoGeo Pocket Color', u'Android', u'Master System', u'Linux', u'iPod',\n",
       "       u'Saturn', u'TurboGrafx-16', u'Game Boy', u'NeoGeo', u'Nintendo 64DD',\n",
       "       u'Pocket PC', u'SteamOS', u'TurboGrafx-CD', u'Windows Phone',\n",
       "       u'WonderSwan Color', u'Arcade'],\n",
       "      dtype='object', name=u'platform')"
      ]
     },
     "execution_count": 4,
     "metadata": {},
     "output_type": "execute_result"
    }
   ],
   "source": [
    "most_awards.sort_values(ascending=False).index"
   ]
  },
  {
   "cell_type": "markdown",
   "metadata": {},
   "source": [
    "These are the number of **platforms** with decreasing order of **Editor's Choice awards.**"
   ]
  },
  {
   "cell_type": "markdown",
   "metadata": {},
   "source": [
    "## Problem 2\n",
    "\n",
    "Does number of games by a platform in a given year have any effect on these awards?"
   ]
  },
  {
   "cell_type": "code",
   "execution_count": 5,
   "metadata": {
    "collapsed": false
   },
   "outputs": [
    {
     "data": {
      "text/html": [
       "<div>\n",
       "<table border=\"1\" class=\"dataframe\">\n",
       "  <thead>\n",
       "    <tr>\n",
       "      <th></th>\n",
       "      <th></th>\n",
       "      <th colspan=\"2\" halign=\"left\">title</th>\n",
       "    </tr>\n",
       "    <tr>\n",
       "      <th></th>\n",
       "      <th>editors_choice</th>\n",
       "      <th>N</th>\n",
       "      <th>Y</th>\n",
       "    </tr>\n",
       "    <tr>\n",
       "      <th>platform</th>\n",
       "      <th>release_year</th>\n",
       "      <th></th>\n",
       "      <th></th>\n",
       "    </tr>\n",
       "  </thead>\n",
       "  <tbody>\n",
       "    <tr>\n",
       "      <th rowspan=\"7\" valign=\"top\">Android</th>\n",
       "      <th>2010</th>\n",
       "      <td>18.0</td>\n",
       "      <td>1.0</td>\n",
       "    </tr>\n",
       "    <tr>\n",
       "      <th>2011</th>\n",
       "      <td>2.0</td>\n",
       "      <td>1.0</td>\n",
       "    </tr>\n",
       "    <tr>\n",
       "      <th>2012</th>\n",
       "      <td>5.0</td>\n",
       "      <td>1.0</td>\n",
       "    </tr>\n",
       "    <tr>\n",
       "      <th>2013</th>\n",
       "      <td>4.0</td>\n",
       "      <td>NaN</td>\n",
       "    </tr>\n",
       "    <tr>\n",
       "      <th>2014</th>\n",
       "      <td>4.0</td>\n",
       "      <td>1.0</td>\n",
       "    </tr>\n",
       "    <tr>\n",
       "      <th>2015</th>\n",
       "      <td>1.0</td>\n",
       "      <td>NaN</td>\n",
       "    </tr>\n",
       "    <tr>\n",
       "      <th>2016</th>\n",
       "      <td>1.0</td>\n",
       "      <td>NaN</td>\n",
       "    </tr>\n",
       "    <tr>\n",
       "      <th rowspan=\"4\" valign=\"top\">Arcade</th>\n",
       "      <th>2000</th>\n",
       "      <td>1.0</td>\n",
       "      <td>NaN</td>\n",
       "    </tr>\n",
       "    <tr>\n",
       "      <th>2008</th>\n",
       "      <td>1.0</td>\n",
       "      <td>NaN</td>\n",
       "    </tr>\n",
       "    <tr>\n",
       "      <th>2009</th>\n",
       "      <td>7.0</td>\n",
       "      <td>1.0</td>\n",
       "    </tr>\n",
       "    <tr>\n",
       "      <th>2012</th>\n",
       "      <td>1.0</td>\n",
       "      <td>NaN</td>\n",
       "    </tr>\n",
       "    <tr>\n",
       "      <th>Atari 2600</th>\n",
       "      <th>2008</th>\n",
       "      <td>5.0</td>\n",
       "      <td>NaN</td>\n",
       "    </tr>\n",
       "    <tr>\n",
       "      <th>Atari 5200</th>\n",
       "      <th>2008</th>\n",
       "      <td>2.0</td>\n",
       "      <td>NaN</td>\n",
       "    </tr>\n",
       "    <tr>\n",
       "      <th rowspan=\"2\" valign=\"top\">Commodore 64/128</th>\n",
       "      <th>2008</th>\n",
       "      <td>1.0</td>\n",
       "      <td>NaN</td>\n",
       "    </tr>\n",
       "    <tr>\n",
       "      <th>2009</th>\n",
       "      <td>5.0</td>\n",
       "      <td>NaN</td>\n",
       "    </tr>\n",
       "    <tr>\n",
       "      <th>DVD / HD Video Game</th>\n",
       "      <th>2002</th>\n",
       "      <td>1.0</td>\n",
       "      <td>NaN</td>\n",
       "    </tr>\n",
       "    <tr>\n",
       "      <th rowspan=\"5\" valign=\"top\">Dreamcast</th>\n",
       "      <th>1999</th>\n",
       "      <td>49.0</td>\n",
       "      <td>5.0</td>\n",
       "    </tr>\n",
       "    <tr>\n",
       "      <th>2000</th>\n",
       "      <td>138.0</td>\n",
       "      <td>29.0</td>\n",
       "    </tr>\n",
       "    <tr>\n",
       "      <th>2001</th>\n",
       "      <td>38.0</td>\n",
       "      <td>23.0</td>\n",
       "    </tr>\n",
       "    <tr>\n",
       "      <th>2002</th>\n",
       "      <td>1.0</td>\n",
       "      <td>2.0</td>\n",
       "    </tr>\n",
       "    <tr>\n",
       "      <th>2006</th>\n",
       "      <td>1.0</td>\n",
       "      <td>NaN</td>\n",
       "    </tr>\n",
       "    <tr>\n",
       "      <th>Dreamcast VMU</th>\n",
       "      <th>1999</th>\n",
       "      <td>1.0</td>\n",
       "      <td>NaN</td>\n",
       "    </tr>\n",
       "    <tr>\n",
       "      <th rowspan=\"3\" valign=\"top\">Game Boy</th>\n",
       "      <th>1999</th>\n",
       "      <td>14.0</td>\n",
       "      <td>2.0</td>\n",
       "    </tr>\n",
       "    <tr>\n",
       "      <th>2000</th>\n",
       "      <td>5.0</td>\n",
       "      <td>NaN</td>\n",
       "    </tr>\n",
       "    <tr>\n",
       "      <th>2008</th>\n",
       "      <td>1.0</td>\n",
       "      <td>NaN</td>\n",
       "    </tr>\n",
       "    <tr>\n",
       "      <th rowspan=\"5\" valign=\"top\">Game Boy Advance</th>\n",
       "      <th>2001</th>\n",
       "      <td>59.0</td>\n",
       "      <td>17.0</td>\n",
       "    </tr>\n",
       "    <tr>\n",
       "      <th>2002</th>\n",
       "      <td>146.0</td>\n",
       "      <td>26.0</td>\n",
       "    </tr>\n",
       "    <tr>\n",
       "      <th>2003</th>\n",
       "      <td>109.0</td>\n",
       "      <td>32.0</td>\n",
       "    </tr>\n",
       "    <tr>\n",
       "      <th>2004</th>\n",
       "      <td>93.0</td>\n",
       "      <td>12.0</td>\n",
       "    </tr>\n",
       "    <tr>\n",
       "      <th>2005</th>\n",
       "      <td>48.0</td>\n",
       "      <td>8.0</td>\n",
       "    </tr>\n",
       "    <tr>\n",
       "      <th>...</th>\n",
       "      <th>...</th>\n",
       "      <td>...</td>\n",
       "      <td>...</td>\n",
       "    </tr>\n",
       "    <tr>\n",
       "      <th rowspan=\"8\" valign=\"top\">Xbox 360</th>\n",
       "      <th>2008</th>\n",
       "      <td>194.0</td>\n",
       "      <td>53.0</td>\n",
       "    </tr>\n",
       "    <tr>\n",
       "      <th>2009</th>\n",
       "      <td>216.0</td>\n",
       "      <td>56.0</td>\n",
       "    </tr>\n",
       "    <tr>\n",
       "      <th>2010</th>\n",
       "      <td>185.0</td>\n",
       "      <td>63.0</td>\n",
       "    </tr>\n",
       "    <tr>\n",
       "      <th>2011</th>\n",
       "      <td>154.0</td>\n",
       "      <td>59.0</td>\n",
       "    </tr>\n",
       "    <tr>\n",
       "      <th>2012</th>\n",
       "      <td>123.0</td>\n",
       "      <td>47.0</td>\n",
       "    </tr>\n",
       "    <tr>\n",
       "      <th>2013</th>\n",
       "      <td>86.0</td>\n",
       "      <td>18.0</td>\n",
       "    </tr>\n",
       "    <tr>\n",
       "      <th>2014</th>\n",
       "      <td>39.0</td>\n",
       "      <td>11.0</td>\n",
       "    </tr>\n",
       "    <tr>\n",
       "      <th>2015</th>\n",
       "      <td>3.0</td>\n",
       "      <td>NaN</td>\n",
       "    </tr>\n",
       "    <tr>\n",
       "      <th rowspan=\"4\" valign=\"top\">Xbox One</th>\n",
       "      <th>2013</th>\n",
       "      <td>17.0</td>\n",
       "      <td>6.0</td>\n",
       "    </tr>\n",
       "    <tr>\n",
       "      <th>2014</th>\n",
       "      <td>46.0</td>\n",
       "      <td>13.0</td>\n",
       "    </tr>\n",
       "    <tr>\n",
       "      <th>2015</th>\n",
       "      <td>68.0</td>\n",
       "      <td>17.0</td>\n",
       "    </tr>\n",
       "    <tr>\n",
       "      <th>2016</th>\n",
       "      <td>34.0</td>\n",
       "      <td>7.0</td>\n",
       "    </tr>\n",
       "    <tr>\n",
       "      <th rowspan=\"6\" valign=\"top\">iPad</th>\n",
       "      <th>2010</th>\n",
       "      <td>39.0</td>\n",
       "      <td>14.0</td>\n",
       "    </tr>\n",
       "    <tr>\n",
       "      <th>2011</th>\n",
       "      <td>17.0</td>\n",
       "      <td>5.0</td>\n",
       "    </tr>\n",
       "    <tr>\n",
       "      <th>2012</th>\n",
       "      <td>5.0</td>\n",
       "      <td>8.0</td>\n",
       "    </tr>\n",
       "    <tr>\n",
       "      <th>2013</th>\n",
       "      <td>4.0</td>\n",
       "      <td>1.0</td>\n",
       "    </tr>\n",
       "    <tr>\n",
       "      <th>2014</th>\n",
       "      <td>2.0</td>\n",
       "      <td>2.0</td>\n",
       "    </tr>\n",
       "    <tr>\n",
       "      <th>2015</th>\n",
       "      <td>2.0</td>\n",
       "      <td>NaN</td>\n",
       "    </tr>\n",
       "    <tr>\n",
       "      <th rowspan=\"9\" valign=\"top\">iPhone</th>\n",
       "      <th>2008</th>\n",
       "      <td>98.0</td>\n",
       "      <td>12.0</td>\n",
       "    </tr>\n",
       "    <tr>\n",
       "      <th>2009</th>\n",
       "      <td>188.0</td>\n",
       "      <td>39.0</td>\n",
       "    </tr>\n",
       "    <tr>\n",
       "      <th>2010</th>\n",
       "      <td>180.0</td>\n",
       "      <td>33.0</td>\n",
       "    </tr>\n",
       "    <tr>\n",
       "      <th>2011</th>\n",
       "      <td>93.0</td>\n",
       "      <td>39.0</td>\n",
       "    </tr>\n",
       "    <tr>\n",
       "      <th>2012</th>\n",
       "      <td>62.0</td>\n",
       "      <td>12.0</td>\n",
       "    </tr>\n",
       "    <tr>\n",
       "      <th>2013</th>\n",
       "      <td>45.0</td>\n",
       "      <td>10.0</td>\n",
       "    </tr>\n",
       "    <tr>\n",
       "      <th>2014</th>\n",
       "      <td>13.0</td>\n",
       "      <td>5.0</td>\n",
       "    </tr>\n",
       "    <tr>\n",
       "      <th>2015</th>\n",
       "      <td>9.0</td>\n",
       "      <td>2.0</td>\n",
       "    </tr>\n",
       "    <tr>\n",
       "      <th>2016</th>\n",
       "      <td>2.0</td>\n",
       "      <td>NaN</td>\n",
       "    </tr>\n",
       "    <tr>\n",
       "      <th rowspan=\"3\" valign=\"top\">iPod</th>\n",
       "      <th>2006</th>\n",
       "      <td>7.0</td>\n",
       "      <td>NaN</td>\n",
       "    </tr>\n",
       "    <tr>\n",
       "      <th>2007</th>\n",
       "      <td>3.0</td>\n",
       "      <td>2.0</td>\n",
       "    </tr>\n",
       "    <tr>\n",
       "      <th>2008</th>\n",
       "      <td>4.0</td>\n",
       "      <td>1.0</td>\n",
       "    </tr>\n",
       "  </tbody>\n",
       "</table>\n",
       "<p>261 rows × 2 columns</p>\n",
       "</div>"
      ],
      "text/plain": [
       "                                  title      \n",
       "editors_choice                        N     Y\n",
       "platform            release_year             \n",
       "Android             2010           18.0   1.0\n",
       "                    2011            2.0   1.0\n",
       "                    2012            5.0   1.0\n",
       "                    2013            4.0   NaN\n",
       "                    2014            4.0   1.0\n",
       "                    2015            1.0   NaN\n",
       "                    2016            1.0   NaN\n",
       "Arcade              2000            1.0   NaN\n",
       "                    2008            1.0   NaN\n",
       "                    2009            7.0   1.0\n",
       "                    2012            1.0   NaN\n",
       "Atari 2600          2008            5.0   NaN\n",
       "Atari 5200          2008            2.0   NaN\n",
       "Commodore 64/128    2008            1.0   NaN\n",
       "                    2009            5.0   NaN\n",
       "DVD / HD Video Game 2002            1.0   NaN\n",
       "Dreamcast           1999           49.0   5.0\n",
       "                    2000          138.0  29.0\n",
       "                    2001           38.0  23.0\n",
       "                    2002            1.0   2.0\n",
       "                    2006            1.0   NaN\n",
       "Dreamcast VMU       1999            1.0   NaN\n",
       "Game Boy            1999           14.0   2.0\n",
       "                    2000            5.0   NaN\n",
       "                    2008            1.0   NaN\n",
       "Game Boy Advance    2001           59.0  17.0\n",
       "                    2002          146.0  26.0\n",
       "                    2003          109.0  32.0\n",
       "                    2004           93.0  12.0\n",
       "                    2005           48.0   8.0\n",
       "...                                 ...   ...\n",
       "Xbox 360            2008          194.0  53.0\n",
       "                    2009          216.0  56.0\n",
       "                    2010          185.0  63.0\n",
       "                    2011          154.0  59.0\n",
       "                    2012          123.0  47.0\n",
       "                    2013           86.0  18.0\n",
       "                    2014           39.0  11.0\n",
       "                    2015            3.0   NaN\n",
       "Xbox One            2013           17.0   6.0\n",
       "                    2014           46.0  13.0\n",
       "                    2015           68.0  17.0\n",
       "                    2016           34.0   7.0\n",
       "iPad                2010           39.0  14.0\n",
       "                    2011           17.0   5.0\n",
       "                    2012            5.0   8.0\n",
       "                    2013            4.0   1.0\n",
       "                    2014            2.0   2.0\n",
       "                    2015            2.0   NaN\n",
       "iPhone              2008           98.0  12.0\n",
       "                    2009          188.0  39.0\n",
       "                    2010          180.0  33.0\n",
       "                    2011           93.0  39.0\n",
       "                    2012           62.0  12.0\n",
       "                    2013           45.0  10.0\n",
       "                    2014           13.0   5.0\n",
       "                    2015            9.0   2.0\n",
       "                    2016            2.0   NaN\n",
       "iPod                2006            7.0   NaN\n",
       "                    2007            3.0   2.0\n",
       "                    2008            4.0   1.0\n",
       "\n",
       "[261 rows x 2 columns]"
      ]
     },
     "execution_count": 5,
     "metadata": {},
     "output_type": "execute_result"
    }
   ],
   "source": [
    "data.pivot_table(index=['platform','release_year'],columns=['editors_choice'],values=['title'],aggfunc='count')"
   ]
  },
  {
   "cell_type": "markdown",
   "metadata": {},
   "source": [
    "Here NaN means 0 as there is no value for counting.\n",
    "**Yes** number of games by a platform in a given year has an effect in these awards.\n",
    "\n",
    "For some Platform like **iPad, Game Boy, Android** it was constantly decreasing and\n",
    "\n",
    "For some Platform like **Xbox One, Game Boy Advance, Dreamcast** it was first increased than decreased."
   ]
  },
  {
   "cell_type": "markdown",
   "metadata": {},
   "source": [
    "## Problem 3\n",
    "\n",
    "What is Macintosh's average award count?"
   ]
  },
  {
   "cell_type": "code",
   "execution_count": 6,
   "metadata": {
    "collapsed": false
   },
   "outputs": [
    {
     "data": {
      "text/plain": [
       "N    41\n",
       "Y    40\n",
       "Name: editors_choice, dtype: int64"
      ]
     },
     "execution_count": 6,
     "metadata": {},
     "output_type": "execute_result"
    }
   ],
   "source": [
    "macintosh_awards = data['editors_choice'][data['platform']=='Macintosh'].value_counts()\n",
    "macintosh_awards"
   ]
  },
  {
   "cell_type": "code",
   "execution_count": 7,
   "metadata": {
    "collapsed": false
   },
   "outputs": [
    {
     "name": "stdout",
     "output_type": "stream",
     "text": [
      "Macintosh Avg For No Awards: 0.506172839506\n"
     ]
    }
   ],
   "source": [
    "print \"Macintosh Avg For No Awards:\", float(macintosh_awards[0])/(macintosh_awards[0]+macintosh_awards[1])"
   ]
  },
  {
   "cell_type": "code",
   "execution_count": 8,
   "metadata": {
    "collapsed": false
   },
   "outputs": [
    {
     "name": "stdout",
     "output_type": "stream",
     "text": [
      "Macintosh Avg For Awards: 0.493827160494\n"
     ]
    }
   ],
   "source": [
    "print \"Macintosh Avg For Awards:\", float(macintosh_awards[1])/(macintosh_awards[0]+macintosh_awards[1])"
   ]
  },
  {
   "cell_type": "markdown",
   "metadata": {},
   "source": [
    "## Problem 4\n",
    "\n",
    "What is the optimal month for releasing a game?"
   ]
  },
  {
   "cell_type": "code",
   "execution_count": 9,
   "metadata": {
    "collapsed": false
   },
   "outputs": [
    {
     "data": {
      "text/plain": [
       "release_month\n",
       "9     23.842999\n",
       "3     22.186904\n",
       "2     21.703090\n",
       "10    20.432900\n",
       "8     20.179372\n",
       "11    19.345126\n",
       "6     16.992583\n",
       "4     16.930380\n",
       "5     16.797900\n",
       "1     15.957447\n",
       "7     15.630252\n",
       "12    12.823920\n",
       "dtype: float64"
      ]
     },
     "execution_count": 9,
     "metadata": {},
     "output_type": "execute_result"
    }
   ],
   "source": [
    "month_y = data['editors_choice'][data['editors_choice']=='Y'].groupby(data['release_month']).count()\n",
    "month_n = data['editors_choice'][data['editors_choice']=='N'].groupby(data['release_month']).count()\n",
    "month_percentage = month_y / (month_y + month_n) *100\n",
    "month_percentage.sort_values(ascending=False)"
   ]
  },
  {
   "cell_type": "markdown",
   "metadata": {},
   "source": [
    "If we consider **Editors choice awards** for releasing a game than **month 9** is best."
   ]
  },
  {
   "cell_type": "code",
   "execution_count": 10,
   "metadata": {
    "collapsed": false
   },
   "outputs": [
    {
     "data": {
      "text/plain": [
       "release_month\n",
       "9     7.237024\n",
       "8     7.079895\n",
       "10    7.067143\n",
       "3     7.023776\n",
       "2     6.998116\n",
       "11    6.943734\n",
       "6     6.936413\n",
       "4     6.890744\n",
       "5     6.860105\n",
       "7     6.854286\n",
       "1     6.694681\n",
       "12    6.624850\n",
       "Name: score, dtype: float64"
      ]
     },
     "execution_count": 10,
     "metadata": {},
     "output_type": "execute_result"
    }
   ],
   "source": [
    "month_score = data['score'].groupby(data['release_month']).mean()\n",
    "month_score.sort_values(ascending=False)"
   ]
  },
  {
   "cell_type": "markdown",
   "metadata": {},
   "source": [
    "If we consider **score** for releasing a game than also **month 9** is best."
   ]
  },
  {
   "cell_type": "markdown",
   "metadata": {},
   "source": [
    "## Problem 5\n",
    "\n",
    "Analyze the percentage growth in the gaming industry over the years."
   ]
  },
  {
   "cell_type": "code",
   "execution_count": 11,
   "metadata": {
    "collapsed": false
   },
   "outputs": [
    {
     "data": {
      "text/plain": [
       "2016     1.213423\n",
       "2015     1.959732\n",
       "2014     2.883221\n",
       "2013     3.736913\n",
       "2012     4.042953\n",
       "2011     5.761074\n",
       "2010     7.318121\n",
       "2009     9.057718\n",
       "2008    10.281879\n",
       "2007     8.644295\n",
       "2006     6.485906\n",
       "2005     5.841611\n",
       "2004     5.353020\n",
       "2003     5.202685\n",
       "2002     5.025503\n",
       "2001     3.693960\n",
       "2000     5.610738\n",
       "1999     4.161074\n",
       "1998     1.820134\n",
       "1997     1.100671\n",
       "1996     0.800000\n",
       "1970     0.005369\n",
       "Name: release_year, dtype: float64"
      ]
     },
     "execution_count": 11,
     "metadata": {},
     "output_type": "execute_result"
    }
   ],
   "source": [
    "growth = data['release_year'].value_counts().sort_index(ascending=False)\n",
    "percentage_growth = growth / growth.sum() *100\n",
    "percentage_growth"
   ]
  },
  {
   "cell_type": "code",
   "execution_count": 12,
   "metadata": {
    "collapsed": false
   },
   "outputs": [
    {
     "data": {
      "text/plain": [
       "[<matplotlib.lines.Line2D at 0x9f48b00>]"
      ]
     },
     "execution_count": 12,
     "metadata": {},
     "output_type": "execute_result"
    },
    {
     "data": {
      "image/png": "[encoded data removed]",
      "text/plain": [
       "<matplotlib.figure.Figure at 0x9fdb2b0>"
      ]
     },
     "metadata": {},
     "output_type": "display_data"
    }
   ],
   "source": [
    "plt.plot(percentage_growth.index,percentage_growth.values)"
   ]
  },
  {
   "cell_type": "markdown",
   "metadata": {},
   "source": [
    "It looks like growth was increasing upto **year 2008** after that it was constantly decreasing."
   ]
  },
  {
   "cell_type": "markdown",
   "metadata": {},
   "source": [
    "## Problem 6\n",
    "\n",
    "Build a predictive model to predict which games will get \"Editor's Choice\" awards in a given year?"
   ]
  },
  {
   "cell_type": "code",
   "execution_count": 13,
   "metadata": {
    "collapsed": false
   },
   "outputs": [
    {
     "data": {
      "text/plain": [
       "score_phrase\n",
       "Amazing         9.176663\n",
       "Awful           3.290211\n",
       "Bad             4.331600\n",
       "Disaster        0.666667\n",
       "Good            7.369099\n",
       "Great           8.316510\n",
       "Masterpiece    10.000000\n",
       "Mediocre        5.318530\n",
       "Okay            6.366553\n",
       "Painful         2.267941\n",
       "Unbearable      1.290278\n",
       "Name: score, dtype: float64"
      ]
     },
     "execution_count": 13,
     "metadata": {},
     "output_type": "execute_result"
    }
   ],
   "source": [
    "data['score'].groupby(data['score_phrase']).mean()"
   ]
  },
  {
   "cell_type": "markdown",
   "metadata": {},
   "source": [
    "It looks like **score and score_phrase** are correlated or same meaning"
   ]
  },
  {
   "cell_type": "code",
   "execution_count": 14,
   "metadata": {
    "collapsed": false
   },
   "outputs": [
    {
     "data": {
      "text/plain": [
       "Unnamed: 0          int64\n",
       "score_phrase       object\n",
       "title              object\n",
       "url                object\n",
       "platform           object\n",
       "score             float64\n",
       "genre              object\n",
       "editors_choice     object\n",
       "release_year        int64\n",
       "release_month       int64\n",
       "release_day         int64\n",
       "dtype: object"
      ]
     },
     "execution_count": 14,
     "metadata": {},
     "output_type": "execute_result"
    }
   ],
   "source": [
    "data.dtypes"
   ]
  },
  {
   "cell_type": "code",
   "execution_count": 15,
   "metadata": {
    "collapsed": true
   },
   "outputs": [],
   "source": [
    "data_score_phrase = data['score_phrase'] #we need it later"
   ]
  },
  {
   "cell_type": "code",
   "execution_count": 16,
   "metadata": {
    "collapsed": false
   },
   "outputs": [
    {
     "data": {
      "text/plain": [
       "Unnamed: 0          int64\n",
       "score_phrase        int64\n",
       "title               int64\n",
       "url                object\n",
       "platform            int64\n",
       "score             float64\n",
       "genre              object\n",
       "editors_choice      int64\n",
       "release_year        int64\n",
       "release_month       int64\n",
       "release_day         int64\n",
       "dtype: object"
      ]
     },
     "execution_count": 16,
     "metadata": {},
     "output_type": "execute_result"
    }
   ],
   "source": [
    "from sklearn.preprocessing import LabelEncoder\n",
    "var = ['score_phrase','title','platform','editors_choice']\n",
    "for i in var:\n",
    "    data[i] = LabelEncoder().fit_transform(data[i])\n",
    "data.dtypes"
   ]
  },
  {
   "cell_type": "markdown",
   "metadata": {},
   "source": [
    "Changing Data Types from 'object' to 'int64' by using **LabelEncoder** so that data can fit on the model"
   ]
  },
  {
   "cell_type": "markdown",
   "metadata": {},
   "source": [
    "### Model Based on Train Test Data"
   ]
  },
  {
   "cell_type": "code",
   "execution_count": 17,
   "metadata": {
    "collapsed": true
   },
   "outputs": [],
   "source": [
    "from sklearn.cross_validation import train_test_split\n",
    "from sklearn.metrics import accuracy_score\n",
    "\n",
    "features = ['score_phrase','title','platform','score','release_year','release_month']\n",
    "\n",
    "X_train, X_test, y_train, y_test = train_test_split(data[features],data['editors_choice'], test_size=0.10, random_state=7)"
   ]
  },
  {
   "cell_type": "code",
   "execution_count": 18,
   "metadata": {
    "collapsed": false
   },
   "outputs": [
    {
     "name": "stdout",
     "output_type": "stream",
     "text": [
      "Accuracy: 96.99410%\n",
      "[ 0.20956367  0.0794481   0.04891126  0.55372227  0.0722887   0.036066  ]\n",
      "Wall time: 2.3 s\n"
     ]
    },
    {
     "data": {
      "image/png": "[encoded data removed]",
      "text/plain": [
       "<matplotlib.figure.Figure at 0xbd7e320>"
      ]
     },
     "metadata": {},
     "output_type": "display_data"
    }
   ],
   "source": [
    "%%time\n",
    "from sklearn.ensemble import RandomForestClassifier\n",
    "rf = RandomForestClassifier(n_estimators=100)\n",
    "rf.fit(X_train, y_train)\n",
    "y_pred = rf.predict(X_test)\n",
    "# evaluate predictions\n",
    "\n",
    "accuracy = accuracy_score(y_test, y_pred)\n",
    "print(\"Accuracy: %.5f%%\" % (accuracy * 100.0))\n",
    "print rf.feature_importances_\n",
    "\n",
    "feature = pd.DataFrame(rf.feature_importances_,features)\n",
    "feature = feature.sort_values(by=0,ascending=False)\n",
    "\n",
    "feature.plot(kind='bar', title='Feature Importances')\n",
    "plt.ylabel('Feature Importance Score')"
   ]
  },
  {
   "cell_type": "code",
   "execution_count": 19,
   "metadata": {
    "collapsed": false
   },
   "outputs": [
    {
     "name": "stdout",
     "output_type": "stream",
     "text": [
      "Accuracy: 96.94042%\n",
      "Wall time: 525 ms\n"
     ]
    },
    {
     "data": {
      "image/png": "[encoded data removed]",
      "text/plain": [
       "<matplotlib.figure.Figure at 0xcc7cbe0>"
      ]
     },
     "metadata": {},
     "output_type": "display_data"
    }
   ],
   "source": [
    "%%time\n",
    "import xgboost as xgb\n",
    "from xgboost.sklearn import XGBClassifier\n",
    "model = XGBClassifier()\n",
    "model.fit(X_train, y_train)\n",
    "y_pred = model.predict(X_test)\n",
    "# evaluate predictions\n",
    "accuracy = accuracy_score(y_test, y_pred)\n",
    "print(\"Accuracy: %.5f%%\" % (accuracy * 100.0))\n",
    "\n",
    "feature = pd.DataFrame(model.feature_importances_,features)\n",
    "feature = feature.sort_values(by=0,ascending=False)\n",
    "\n",
    "feature.plot(kind='bar', title='Feature Importances')\n",
    "plt.ylabel('Feature Importance Score')"
   ]
  },
  {
   "cell_type": "markdown",
   "metadata": {
    "collapsed": true
   },
   "source": [
    "## Model Based on Cross Validation Score "
   ]
  },
  {
   "cell_type": "code",
   "execution_count": 20,
   "metadata": {
    "collapsed": false
   },
   "outputs": [
    {
     "name": "stdout",
     "output_type": "stream",
     "text": [
      "Random Forest CV scores:\n",
      "min: 0.900, mean: 0.940, max: 0.966\n",
      "Wall time: 5.1 s\n"
     ]
    }
   ],
   "source": [
    "%%time\n",
    "from sklearn.ensemble import RandomForestClassifier\n",
    "from sklearn.cross_validation import cross_val_score\n",
    "\n",
    "rf = RandomForestClassifier(n_estimators=100)\n",
    "scores = cross_val_score(rf, data[features], data['editors_choice'], cv=5, n_jobs=4,scoring='accuracy')\n",
    "print(\"Random Forest CV scores:\")\n",
    "print(\"min: {:.3f}, mean: {:.3f}, max: {:.3f}\".format(\n",
    "    scores.min(), scores.mean(), scores.max()))"
   ]
  },
  {
   "cell_type": "code",
   "execution_count": 21,
   "metadata": {
    "collapsed": false
   },
   "outputs": [
    {
     "name": "stdout",
     "output_type": "stream",
     "text": [
      "Accuracy: 95.33% Std.Dev. (2.07%)\n",
      "min: 0.925, mean: 0.953, max: 0.973\n",
      "Wall time: 1.9 s\n"
     ]
    }
   ],
   "source": [
    "%%time\n",
    "model = XGBClassifier()\n",
    "results = cross_val_score(model, data[features], data['editors_choice'], cv=5)\n",
    "print(\"Accuracy: %.2f%% Std.Dev. (%.2f%%)\" % (results.mean()*100, results.std()*100))\n",
    "print(\"min: {:.3f}, mean: {:.3f}, max: {:.3f}\".format(\n",
    "    results.min(), results.mean(), results.max()))"
   ]
  },
  {
   "cell_type": "markdown",
   "metadata": {},
   "source": [
    "#### Here accuracy increased by using Xgboost rather than RandomForest. However, we try to tune parameters of both algorithms for furthur increases in accuracy "
   ]
  },
  {
   "cell_type": "markdown",
   "metadata": {},
   "source": [
    "### Now try to change features on Train and Test"
   ]
  },
  {
   "cell_type": "code",
   "execution_count": 23,
   "metadata": {
    "collapsed": false
   },
   "outputs": [
    {
     "name": "stdout",
     "output_type": "stream",
     "text": [
      "Accuracy: 96.94042%\n"
     ]
    },
    {
     "data": {
      "text/plain": [
       "<matplotlib.text.Text at 0xb761ac8>"
      ]
     },
     "execution_count": 23,
     "metadata": {},
     "output_type": "execute_result"
    },
    {
     "data": {
      "image/png": "[encoded data removed]",
      "text/plain": [
       "<matplotlib.figure.Figure at 0xcf637f0>"
      ]
     },
     "metadata": {},
     "output_type": "display_data"
    }
   ],
   "source": [
    "from sklearn.cross_validation import train_test_split\n",
    "from sklearn.metrics import accuracy_score\n",
    "\n",
    "features = ['title','platform','score','release_year','release_month']\n",
    "\n",
    "X_train, X_test, y_train, y_test = train_test_split(data[features],data['editors_choice'], test_size=0.10, random_state=7)\n",
    "\n",
    "model = XGBClassifier()\n",
    "model.fit(X_train, y_train)\n",
    "y_pred = model.predict(X_test)\n",
    "# evaluate predictions\n",
    "accuracy = accuracy_score(y_test, y_pred)\n",
    "print(\"Accuracy: %.5f%%\" % (accuracy * 100.0))\n",
    "\n",
    "feature = pd.DataFrame(model.feature_importances_,features)\n",
    "feature = feature.sort_values(by=0,ascending=False)\n",
    "\n",
    "feature.plot(kind='bar', title='Feature Importances')\n",
    "plt.ylabel('Feature Importance Score')"
   ]
  },
  {
   "cell_type": "markdown",
   "metadata": {},
   "source": [
    "### Change TestSize and Features"
   ]
  },
  {
   "cell_type": "code",
   "execution_count": 24,
   "metadata": {
    "collapsed": false
   },
   "outputs": [
    {
     "name": "stdout",
     "output_type": "stream",
     "text": [
      "Accuracy: 96.72483%\n"
     ]
    },
    {
     "data": {
      "text/plain": [
       "<matplotlib.text.Text at 0xccce7b8>"
      ]
     },
     "execution_count": 24,
     "metadata": {},
     "output_type": "execute_result"
    },
    {
     "data": {
      "image/png": "[encoded data removed]",
      "text/plain": [
       "<matplotlib.figure.Figure at 0xcc7cf60>"
      ]
     },
     "metadata": {},
     "output_type": "display_data"
    }
   ],
   "source": [
    "from sklearn.cross_validation import train_test_split\n",
    "from sklearn.metrics import accuracy_score\n",
    "\n",
    "features = ['title','platform','score','release_year','release_month']\n",
    "\n",
    "X_train, X_test, y_train, y_test = train_test_split(data[features],data['editors_choice'], test_size=0.20, random_state=7)\n",
    "\n",
    "model = XGBClassifier(learning_rate=0.05,max_depth=5,min_child_weight=6,gamma=0.1,subsample=0.9,colsample_bytree=0.9)\n",
    "model.fit(X_train, y_train)\n",
    "y_pred = model.predict(X_test)\n",
    "# evaluate predictions\n",
    "accuracy = accuracy_score(y_test, y_pred)\n",
    "print(\"Accuracy: %.5f%%\" % (accuracy * 100.0))\n",
    "\n",
    "feature = pd.DataFrame(model.feature_importances_,features)\n",
    "feature = feature.sort_values(by=0,ascending=False)\n",
    "\n",
    "feature.plot(kind='bar', title='Feature Importances')\n",
    "plt.ylabel('Feature Importance Score')"
   ]
  },
  {
   "cell_type": "markdown",
   "metadata": {},
   "source": [
    "### First we take 90% of data for Training now we take only 80% of data for training and it looks like Accuracy Decreased "
   ]
  },
  {
   "cell_type": "markdown",
   "metadata": {},
   "source": [
    "## Now try to add more features "
   ]
  },
  {
   "cell_type": "markdown",
   "metadata": {},
   "source": [
    "#### First Try to impute missing value in feature \"genre\" "
   ]
  },
  {
   "cell_type": "code",
   "execution_count": 25,
   "metadata": {
    "collapsed": false
   },
   "outputs": [
    {
     "data": {
      "text/plain": [
       "(18589, 11)"
      ]
     },
     "execution_count": 25,
     "metadata": {},
     "output_type": "execute_result"
    }
   ],
   "source": [
    "data.dropna().shape"
   ]
  },
  {
   "cell_type": "markdown",
   "metadata": {},
   "source": [
    "It delete all those rows which contain missing values. Now we take its median and impute values to the null"
   ]
  },
  {
   "cell_type": "code",
   "execution_count": 26,
   "metadata": {
    "collapsed": false
   },
   "outputs": [
    {
     "data": {
      "text/plain": [
       "(18625, 11)"
      ]
     },
     "execution_count": 26,
     "metadata": {},
     "output_type": "execute_result"
    }
   ],
   "source": [
    "data = data.fillna(data.dropna().median())\n",
    "data.shape"
   ]
  },
  {
   "cell_type": "code",
   "execution_count": 27,
   "metadata": {
    "collapsed": false
   },
   "outputs": [
    {
     "name": "stderr",
     "output_type": "stream",
     "text": [
      "C:\\Anaconda2\\lib\\site-packages\\numpy\\lib\\arraysetops.py:200: FutureWarning: numpy not_equal will not check object identity in the future. The comparison did not return the same result as suggested by the identity (`is`)) and will change.\n",
      "  flag = np.concatenate(([True], aux[1:] != aux[:-1]))\n"
     ]
    },
    {
     "data": {
      "text/plain": [
       "Unnamed: 0          int64\n",
       "score_phrase        int64\n",
       "title               int64\n",
       "url                object\n",
       "platform            int64\n",
       "score             float64\n",
       "genre               int64\n",
       "editors_choice      int64\n",
       "release_year        int64\n",
       "release_month       int64\n",
       "release_day         int64\n",
       "dtype: object"
      ]
     },
     "execution_count": 27,
     "metadata": {},
     "output_type": "execute_result"
    }
   ],
   "source": [
    "data['genre']=LabelEncoder().fit_transform(data['genre'])\n",
    "data.dtypes"
   ]
  },
  {
   "cell_type": "code",
   "execution_count": 29,
   "metadata": {
    "collapsed": false
   },
   "outputs": [
    {
     "name": "stdout",
     "output_type": "stream",
     "text": [
      "Accuracy: 96.72483%\n"
     ]
    },
    {
     "data": {
      "text/plain": [
       "<matplotlib.text.Text at 0xc929a90>"
      ]
     },
     "execution_count": 29,
     "metadata": {},
     "output_type": "execute_result"
    },
    {
     "data": {
      "image/png": "[encoded data removed]",
      "text/plain": [
       "<matplotlib.figure.Figure at 0xbe945f8>"
      ]
     },
     "metadata": {},
     "output_type": "display_data"
    }
   ],
   "source": [
    "from sklearn.cross_validation import train_test_split\n",
    "from sklearn.metrics import accuracy_score\n",
    "\n",
    "features = ['score_phrase','genre','title','platform','score','release_year','release_month']\n",
    "\n",
    "X_train, X_test, y_train, y_test = train_test_split(data[features],data['editors_choice'], test_size=0.20, random_state=7)\n",
    "\n",
    "model = XGBClassifier()\n",
    "model.fit(X_train, y_train)\n",
    "y_pred = model.predict(X_test)\n",
    "# evaluate predictions\n",
    "accuracy = accuracy_score(y_test, y_pred)\n",
    "print(\"Accuracy: %.5f%%\" % (accuracy * 100.0))\n",
    "\n",
    "feature = pd.DataFrame(model.feature_importances_,features)\n",
    "feature = feature.sort_values(by=0,ascending=False)\n",
    "\n",
    "feature.plot(kind='bar', title='Feature Importances')\n",
    "plt.ylabel('Feature Importance Score')"
   ]
  },
  {
   "cell_type": "markdown",
   "metadata": {},
   "source": [
    "### Accuracy was still not increasing so our previous model with 6 features is best."
   ]
  },
  {
   "cell_type": "markdown",
   "metadata": {},
   "source": [
    "### It looks like xgboost work better so using Grid Search for tuning Parameters "
   ]
  },
  {
   "cell_type": "code",
   "execution_count": 32,
   "metadata": {
    "collapsed": false
   },
   "outputs": [
    {
     "name": "stdout",
     "output_type": "stream",
     "text": [
      "Wall time: 1min 27s\n"
     ]
    }
   ],
   "source": [
    "%%time\n",
    "\n",
    "from sklearn.grid_search import GridSearchCV\n",
    "features = ['score_phrase','title','platform','score','release_year','release_month']\n",
    "\n",
    "params = {\n",
    "    'learning_rate': [0.05, 0.1, 0.5],'max_depth':range(3,10,2),'min_child_weight':range(1,6,2)\n",
    "}\n",
    "gs = GridSearchCV(model, params, cv=5, scoring='accuracy', n_jobs=4)\n",
    "gs.fit(data[features], data['editors_choice'])"
   ]
  },
  {
   "cell_type": "code",
   "execution_count": 33,
   "metadata": {
    "collapsed": false
   },
   "outputs": [
    {
     "data": {
      "text/plain": [
       "[mean: 0.95442, std: 0.01668, params: {'learning_rate': 0.05, 'max_depth': 5, 'min_child_weight': 5},\n",
       " mean: 0.95334, std: 0.02066, params: {'learning_rate': 0.1, 'max_depth': 3, 'min_child_weight': 3},\n",
       " mean: 0.95329, std: 0.02070, params: {'learning_rate': 0.1, 'max_depth': 3, 'min_child_weight': 1},\n",
       " mean: 0.95227, std: 0.01765, params: {'learning_rate': 0.05, 'max_depth': 5, 'min_child_weight': 1},\n",
       " mean: 0.95216, std: 0.01766, params: {'learning_rate': 0.05, 'max_depth': 5, 'min_child_weight': 3},\n",
       " mean: 0.95071, std: 0.01891, params: {'learning_rate': 0.1, 'max_depth': 3, 'min_child_weight': 5},\n",
       " mean: 0.94846, std: 0.01588, params: {'learning_rate': 0.05, 'max_depth': 9, 'min_child_weight': 5},\n",
       " mean: 0.94840, std: 0.02245, params: {'learning_rate': 0.05, 'max_depth': 3, 'min_child_weight': 1},\n",
       " mean: 0.94840, std: 0.02245, params: {'learning_rate': 0.05, 'max_depth': 3, 'min_child_weight': 3},\n",
       " mean: 0.94840, std: 0.02245, params: {'learning_rate': 0.05, 'max_depth': 3, 'min_child_weight': 5},\n",
       " mean: 0.94840, std: 0.01597, params: {'learning_rate': 0.05, 'max_depth': 7, 'min_child_weight': 5},\n",
       " mean: 0.94604, std: 0.02063, params: {'learning_rate': 0.05, 'max_depth': 7, 'min_child_weight': 3},\n",
       " mean: 0.94438, std: 0.01660, params: {'learning_rate': 0.1, 'max_depth': 5, 'min_child_weight': 5},\n",
       " mean: 0.94325, std: 0.01732, params: {'learning_rate': 0.1, 'max_depth': 5, 'min_child_weight': 1},\n",
       " mean: 0.94196, std: 0.01854, params: {'learning_rate': 0.05, 'max_depth': 7, 'min_child_weight': 1},\n",
       " mean: 0.94142, std: 0.01911, params: {'learning_rate': 0.05, 'max_depth': 9, 'min_child_weight': 3},\n",
       " mean: 0.94072, std: 0.01805, params: {'learning_rate': 0.1, 'max_depth': 5, 'min_child_weight': 3},\n",
       " mean: 0.94062, std: 0.01741, params: {'learning_rate': 0.1, 'max_depth': 7, 'min_child_weight': 5},\n",
       " mean: 0.94008, std: 0.01847, params: {'learning_rate': 0.05, 'max_depth': 9, 'min_child_weight': 1},\n",
       " mean: 0.93992, std: 0.01691, params: {'learning_rate': 0.1, 'max_depth': 9, 'min_child_weight': 5},\n",
       " mean: 0.93793, std: 0.01772, params: {'learning_rate': 0.1, 'max_depth': 7, 'min_child_weight': 3},\n",
       " mean: 0.93783, std: 0.01752, params: {'learning_rate': 0.1, 'max_depth': 9, 'min_child_weight': 3},\n",
       " mean: 0.93681, std: 0.01603, params: {'learning_rate': 0.1, 'max_depth': 7, 'min_child_weight': 1},\n",
       " mean: 0.93638, std: 0.01617, params: {'learning_rate': 0.1, 'max_depth': 9, 'min_child_weight': 1},\n",
       " mean: 0.93605, std: 0.01619, params: {'learning_rate': 0.5, 'max_depth': 9, 'min_child_weight': 3},\n",
       " mean: 0.93471, std: 0.01719, params: {'learning_rate': 0.5, 'max_depth': 9, 'min_child_weight': 5},\n",
       " mean: 0.93428, std: 0.01727, params: {'learning_rate': 0.5, 'max_depth': 7, 'min_child_weight': 5},\n",
       " mean: 0.93197, std: 0.01348, params: {'learning_rate': 0.5, 'max_depth': 7, 'min_child_weight': 3},\n",
       " mean: 0.93144, std: 0.01693, params: {'learning_rate': 0.5, 'max_depth': 5, 'min_child_weight': 3},\n",
       " mean: 0.93090, std: 0.01456, params: {'learning_rate': 0.5, 'max_depth': 5, 'min_child_weight': 1},\n",
       " mean: 0.93074, std: 0.01906, params: {'learning_rate': 0.5, 'max_depth': 5, 'min_child_weight': 5},\n",
       " mean: 0.93047, std: 0.01138, params: {'learning_rate': 0.5, 'max_depth': 7, 'min_child_weight': 1},\n",
       " mean: 0.93036, std: 0.01439, params: {'learning_rate': 0.5, 'max_depth': 9, 'min_child_weight': 1},\n",
       " mean: 0.92983, std: 0.01617, params: {'learning_rate': 0.5, 'max_depth': 3, 'min_child_weight': 5},\n",
       " mean: 0.92923, std: 0.01692, params: {'learning_rate': 0.5, 'max_depth': 3, 'min_child_weight': 3},\n",
       " mean: 0.92843, std: 0.01376, params: {'learning_rate': 0.5, 'max_depth': 3, 'min_child_weight': 1}]"
      ]
     },
     "execution_count": 33,
     "metadata": {},
     "output_type": "execute_result"
    }
   ],
   "source": [
    "sorted(gs.grid_scores_, key=lambda x: x.mean_validation_score, reverse=True)"
   ]
  },
  {
   "cell_type": "markdown",
   "metadata": {},
   "source": [
    "### It looks like 'max_depth' and 'min_child_weight' still can tune furthur"
   ]
  },
  {
   "cell_type": "code",
   "execution_count": 34,
   "metadata": {
    "collapsed": false
   },
   "outputs": [
    {
     "name": "stdout",
     "output_type": "stream",
     "text": [
      "Wall time: 20.6 s\n"
     ]
    }
   ],
   "source": [
    "%%time\n",
    "\n",
    "from sklearn.grid_search import GridSearchCV\n",
    "\n",
    "params = {\n",
    "    'learning_rate': [0.05],'max_depth':[4,5,6],'min_child_weight':[4,5,6]\n",
    "}\n",
    "gs = GridSearchCV(model, params, cv=5, scoring='accuracy', n_jobs=4)\n",
    "gs.fit(data[features], data['editors_choice'])"
   ]
  },
  {
   "cell_type": "code",
   "execution_count": 35,
   "metadata": {
    "collapsed": false
   },
   "outputs": [
    {
     "data": {
      "text/plain": [
       "[mean: 0.95495, std: 0.01803, params: {'learning_rate': 0.05, 'max_depth': 5, 'min_child_weight': 6},\n",
       " mean: 0.95442, std: 0.01668, params: {'learning_rate': 0.05, 'max_depth': 5, 'min_child_weight': 5},\n",
       " mean: 0.95420, std: 0.01984, params: {'learning_rate': 0.05, 'max_depth': 4, 'min_child_weight': 5},\n",
       " mean: 0.95409, std: 0.02004, params: {'learning_rate': 0.05, 'max_depth': 4, 'min_child_weight': 4},\n",
       " mean: 0.95404, std: 0.01980, params: {'learning_rate': 0.05, 'max_depth': 4, 'min_child_weight': 6},\n",
       " mean: 0.95345, std: 0.01624, params: {'learning_rate': 0.05, 'max_depth': 6, 'min_child_weight': 6},\n",
       " mean: 0.95286, std: 0.01737, params: {'learning_rate': 0.05, 'max_depth': 5, 'min_child_weight': 4},\n",
       " mean: 0.95248, std: 0.01714, params: {'learning_rate': 0.05, 'max_depth': 6, 'min_child_weight': 5},\n",
       " mean: 0.94797, std: 0.02110, params: {'learning_rate': 0.05, 'max_depth': 6, 'min_child_weight': 4}]"
      ]
     },
     "execution_count": 35,
     "metadata": {},
     "output_type": "execute_result"
    }
   ],
   "source": [
    "sorted(gs.grid_scores_, key=lambda x: x.mean_validation_score, reverse=True)"
   ]
  },
  {
   "cell_type": "markdown",
   "metadata": {},
   "source": [
    "### Here we get new 'min_child_weight' that increase scores. Now furthur tune for other parameters."
   ]
  },
  {
   "cell_type": "code",
   "execution_count": 38,
   "metadata": {
    "collapsed": false
   },
   "outputs": [
    {
     "data": {
      "text/plain": [
       "[mean: 0.95528, std: 0.01712, params: {'gamma': 0.1},\n",
       " mean: 0.95522, std: 0.01696, params: {'gamma': 0.2},\n",
       " mean: 0.95517, std: 0.01742, params: {'gamma': 0.4},\n",
       " mean: 0.95495, std: 0.01803, params: {'gamma': 0.0},\n",
       " mean: 0.95458, std: 0.01701, params: {'gamma': 0.3}]"
      ]
     },
     "execution_count": 38,
     "metadata": {},
     "output_type": "execute_result"
    }
   ],
   "source": [
    "model = XGBClassifier(learning_rate=0.05,max_depth=5,min_child_weight=6)\n",
    "params = {\n",
    " 'gamma':[i/10.0 for i in range(0,5)]\n",
    "}\n",
    "gs = GridSearchCV(model, params, cv=5, scoring='accuracy', n_jobs=4)\n",
    "gs.fit(data[features], data['editors_choice'])\n",
    "sorted(gs.grid_scores_, key=lambda x: x.mean_validation_score, reverse=True)"
   ]
  },
  {
   "cell_type": "markdown",
   "metadata": {},
   "source": [
    "### It looks like 'gamma' increase scores. Now furthur tune for other parameters"
   ]
  },
  {
   "cell_type": "code",
   "execution_count": 39,
   "metadata": {
    "collapsed": false
   },
   "outputs": [
    {
     "data": {
      "text/plain": [
       "[mean: 0.95603, std: 0.01713, params: {'subsample': 0.9, 'colsample_bytree': 0.9},\n",
       " mean: 0.95549, std: 0.01693, params: {'subsample': 0.7, 'colsample_bytree': 0.9},\n",
       " mean: 0.95458, std: 0.01692, params: {'subsample': 0.8, 'colsample_bytree': 0.7},\n",
       " mean: 0.95458, std: 0.01692, params: {'subsample': 0.8, 'colsample_bytree': 0.8},\n",
       " mean: 0.95452, std: 0.01631, params: {'subsample': 0.8, 'colsample_bytree': 0.9},\n",
       " mean: 0.95399, std: 0.01684, params: {'subsample': 0.9, 'colsample_bytree': 0.7},\n",
       " mean: 0.95399, std: 0.01684, params: {'subsample': 0.9, 'colsample_bytree': 0.8},\n",
       " mean: 0.95372, std: 0.01753, params: {'subsample': 0.6, 'colsample_bytree': 0.9},\n",
       " mean: 0.95345, std: 0.01685, params: {'subsample': 0.7, 'colsample_bytree': 0.7},\n",
       " mean: 0.95345, std: 0.01685, params: {'subsample': 0.7, 'colsample_bytree': 0.8},\n",
       " mean: 0.95264, std: 0.01697, params: {'subsample': 0.8, 'colsample_bytree': 0.6},\n",
       " mean: 0.95179, std: 0.01722, params: {'subsample': 0.9, 'colsample_bytree': 0.6},\n",
       " mean: 0.95141, std: 0.01944, params: {'subsample': 0.6, 'colsample_bytree': 0.7},\n",
       " mean: 0.95141, std: 0.01944, params: {'subsample': 0.6, 'colsample_bytree': 0.8},\n",
       " mean: 0.95130, std: 0.01747, params: {'subsample': 0.7, 'colsample_bytree': 0.6},\n",
       " mean: 0.94996, std: 0.01959, params: {'subsample': 0.6, 'colsample_bytree': 0.6}]"
      ]
     },
     "execution_count": 39,
     "metadata": {},
     "output_type": "execute_result"
    }
   ],
   "source": [
    "model = XGBClassifier(learning_rate=0.05,max_depth=5,min_child_weight=6,gamma=0.1)\n",
    "params = {\n",
    " 'subsample':[i/10.0 for i in range(6,10)],\n",
    " 'colsample_bytree':[i/10.0 for i in range(6,10)]\n",
    "}\n",
    "gs = GridSearchCV(model, params, cv=5, scoring='accuracy', n_jobs=4)\n",
    "gs.fit(data[features], data['editors_choice'])\n",
    "sorted(gs.grid_scores_, key=lambda x: x.mean_validation_score, reverse=True)"
   ]
  },
  {
   "cell_type": "markdown",
   "metadata": {},
   "source": [
    "### It looks like 'subsample' and 'colsample_bytree' increased score. Now Applying regularization to avoid overfitting."
   ]
  },
  {
   "cell_type": "code",
   "execution_count": 40,
   "metadata": {
    "collapsed": false
   },
   "outputs": [
    {
     "name": "stdout",
     "output_type": "stream",
     "text": [
      "Wall time: 12.3 s\n"
     ]
    }
   ],
   "source": [
    "%%time\n",
    "model = XGBClassifier(learning_rate=0.05,max_depth=5,min_child_weight=6,gamma=0.1,subsample=0.9,colsample_bytree=0.9)\n",
    "params = {\n",
    "    'reg_alpha':[1e-5, 1e-2, 0.1, 1, 100]\n",
    "}\n",
    "gs = GridSearchCV(model, params, cv=5, scoring='accuracy', n_jobs=4)\n",
    "gs.fit(data[features], data['editors_choice'])"
   ]
  },
  {
   "cell_type": "code",
   "execution_count": 41,
   "metadata": {
    "collapsed": false
   },
   "outputs": [
    {
     "data": {
      "text/plain": [
       "[mean: 0.95603, std: 0.01713, params: {'reg_alpha': 1e-05},\n",
       " mean: 0.95565, std: 0.01683, params: {'reg_alpha': 0.01},\n",
       " mean: 0.95452, std: 0.01669, params: {'reg_alpha': 0.1},\n",
       " mean: 0.95431, std: 0.01674, params: {'reg_alpha': 1},\n",
       " mean: 0.94926, std: 0.02283, params: {'reg_alpha': 100}]"
      ]
     },
     "execution_count": 41,
     "metadata": {},
     "output_type": "execute_result"
    }
   ],
   "source": [
    "sorted(gs.grid_scores_, key=lambda x: x.mean_validation_score, reverse=True)"
   ]
  },
  {
   "cell_type": "markdown",
   "metadata": {},
   "source": [
    "###  It already looks fine\n",
    "Now I think we get all the parameters to tune the model. \n",
    "\n",
    "Now Lets Check this on the train test split data."
   ]
  },
  {
   "cell_type": "code",
   "execution_count": 43,
   "metadata": {
    "collapsed": false
   },
   "outputs": [
    {
     "name": "stdout",
     "output_type": "stream",
     "text": [
      "Accuracy: 97.20880%\n"
     ]
    },
    {
     "data": {
      "text/plain": [
       "<matplotlib.text.Text at 0xdbd15c0>"
      ]
     },
     "execution_count": 43,
     "metadata": {},
     "output_type": "execute_result"
    },
    {
     "data": {
      "image/png": "[encoded data removed]",
      "text/plain": [
       "<matplotlib.figure.Figure at 0xd32c5f8>"
      ]
     },
     "metadata": {},
     "output_type": "display_data"
    }
   ],
   "source": [
    "features = ['score_phrase','title','platform','score','release_year','release_month']\n",
    "\n",
    "X_train, X_test, y_train, y_test = train_test_split(data[features],data['editors_choice'], test_size=0.10, random_state=7)\n",
    "\n",
    "\n",
    "model = XGBClassifier(learning_rate=0.05,max_depth=5,min_child_weight=6,gamma=0.1,subsample=0.9,colsample_bytree=0.9)\n",
    "model.fit(X_train, y_train)\n",
    "y_pred = model.predict(X_test)\n",
    "# evaluate predictions\n",
    "accuracy = accuracy_score(y_test, y_pred)\n",
    "print(\"Accuracy: %.5f%%\" % (accuracy * 100.0))\n",
    "\n",
    "feature = pd.DataFrame(model.feature_importances_,features)\n",
    "feature = feature.sort_values(by=0,ascending=False)\n",
    "\n",
    "feature.plot(kind='bar', title='Feature Importances')\n",
    "plt.ylabel('Feature Importance Score')"
   ]
  },
  {
   "cell_type": "markdown",
   "metadata": {},
   "source": [
    "It looks accuracy is increased from the previous xgboost train test split dataset."
   ]
  },
  {
   "cell_type": "markdown",
   "metadata": {},
   "source": [
    "## Problem 7\n",
    "\n",
    "What attributes are the strongest predictors of whether a game will get an award?\n",
    "\n",
    "**Ans** = **score** > **release_year** > **platform** > **title** > **release_month** > **score_phrase**"
   ]
  },
  {
   "cell_type": "code",
   "execution_count": 44,
   "metadata": {
    "collapsed": false
   },
   "outputs": [
    {
     "data": {
      "text/plain": [
       "array([[1486,   29],\n",
       "       [  23,  325]])"
      ]
     },
     "execution_count": 44,
     "metadata": {},
     "output_type": "execute_result"
    }
   ],
   "source": [
    "from sklearn import metrics\n",
    "metrics.confusion_matrix(y_test, y_pred)"
   ]
  },
  {
   "cell_type": "markdown",
   "metadata": {},
   "source": [
    "True Negative = 1486\n",
    "\n",
    "True Positive = 325\n",
    "\n",
    "False Positive = 29\n",
    "\n",
    "False Negative = 23"
   ]
  },
  {
   "cell_type": "code",
   "execution_count": 45,
   "metadata": {
    "collapsed": false
   },
   "outputs": [
    {
     "name": "stdout",
     "output_type": "stream",
     "text": [
      "             precision    recall  f1-score   support\n",
      "\n",
      "         No       0.98      0.98      0.98      1515\n",
      "        Yes       0.92      0.93      0.93       348\n",
      "\n",
      "avg / total       0.97      0.97      0.97      1863\n",
      "\n"
     ]
    }
   ],
   "source": [
    "from sklearn.metrics import classification_report\n",
    "\n",
    "print(classification_report(y_test, y_pred,\n",
    "                            target_names=['No', 'Yes']))"
   ]
  },
  {
   "cell_type": "markdown",
   "metadata": {},
   "source": [
    "### It looks quite good however for Yes( Editor's Choice Award) precision and recall is comparably low."
   ]
  },
  {
   "cell_type": "markdown",
   "metadata": {},
   "source": [
    "## Now Check for which data our model are not predicting well. "
   ]
  },
  {
   "cell_type": "code",
   "execution_count": 46,
   "metadata": {
    "collapsed": false
   },
   "outputs": [
    {
     "name": "stdout",
     "output_type": "stream",
     "text": [
      "(29, 6)\n"
     ]
    },
    {
     "data": {
      "text/html": [
       "<div>\n",
       "<table border=\"1\" class=\"dataframe\">\n",
       "  <thead>\n",
       "    <tr style=\"text-align: right;\">\n",
       "      <th></th>\n",
       "      <th>score_phrase</th>\n",
       "      <th>title</th>\n",
       "      <th>platform</th>\n",
       "      <th>score</th>\n",
       "      <th>release_year</th>\n",
       "      <th>release_month</th>\n",
       "    </tr>\n",
       "  </thead>\n",
       "  <tbody>\n",
       "    <tr>\n",
       "      <th>5445</th>\n",
       "      <td>5</td>\n",
       "      <td>6918</td>\n",
       "      <td>29</td>\n",
       "      <td>8.5</td>\n",
       "      <td>2003</td>\n",
       "      <td>12</td>\n",
       "    </tr>\n",
       "    <tr>\n",
       "      <th>11233</th>\n",
       "      <td>5</td>\n",
       "      <td>10879</td>\n",
       "      <td>41</td>\n",
       "      <td>8.5</td>\n",
       "      <td>2008</td>\n",
       "      <td>7</td>\n",
       "    </tr>\n",
       "    <tr>\n",
       "      <th>3439</th>\n",
       "      <td>5</td>\n",
       "      <td>6237</td>\n",
       "      <td>9</td>\n",
       "      <td>8.5</td>\n",
       "      <td>2001</td>\n",
       "      <td>11</td>\n",
       "    </tr>\n",
       "    <tr>\n",
       "      <th>4722</th>\n",
       "      <td>5</td>\n",
       "      <td>12285</td>\n",
       "      <td>29</td>\n",
       "      <td>8.5</td>\n",
       "      <td>2003</td>\n",
       "      <td>3</td>\n",
       "    </tr>\n",
       "    <tr>\n",
       "      <th>2617</th>\n",
       "      <td>0</td>\n",
       "      <td>2507</td>\n",
       "      <td>6</td>\n",
       "      <td>9.4</td>\n",
       "      <td>2000</td>\n",
       "      <td>10</td>\n",
       "    </tr>\n",
       "    <tr>\n",
       "      <th>16030</th>\n",
       "      <td>5</td>\n",
       "      <td>7049</td>\n",
       "      <td>54</td>\n",
       "      <td>8.5</td>\n",
       "      <td>2011</td>\n",
       "      <td>9</td>\n",
       "    </tr>\n",
       "    <tr>\n",
       "      <th>16630</th>\n",
       "      <td>5</td>\n",
       "      <td>1846</td>\n",
       "      <td>57</td>\n",
       "      <td>8.5</td>\n",
       "      <td>2012</td>\n",
       "      <td>3</td>\n",
       "    </tr>\n",
       "    <tr>\n",
       "      <th>2588</th>\n",
       "      <td>5</td>\n",
       "      <td>10468</td>\n",
       "      <td>30</td>\n",
       "      <td>8.5</td>\n",
       "      <td>2000</td>\n",
       "      <td>10</td>\n",
       "    </tr>\n",
       "    <tr>\n",
       "      <th>7127</th>\n",
       "      <td>5</td>\n",
       "      <td>3510</td>\n",
       "      <td>53</td>\n",
       "      <td>8.7</td>\n",
       "      <td>2005</td>\n",
       "      <td>9</td>\n",
       "    </tr>\n",
       "    <tr>\n",
       "      <th>8948</th>\n",
       "      <td>5</td>\n",
       "      <td>5189</td>\n",
       "      <td>50</td>\n",
       "      <td>8.0</td>\n",
       "      <td>2007</td>\n",
       "      <td>1</td>\n",
       "    </tr>\n",
       "    <tr>\n",
       "      <th>5220</th>\n",
       "      <td>5</td>\n",
       "      <td>6918</td>\n",
       "      <td>53</td>\n",
       "      <td>8.7</td>\n",
       "      <td>2003</td>\n",
       "      <td>10</td>\n",
       "    </tr>\n",
       "    <tr>\n",
       "      <th>12981</th>\n",
       "      <td>5</td>\n",
       "      <td>6090</td>\n",
       "      <td>27</td>\n",
       "      <td>8.6</td>\n",
       "      <td>2009</td>\n",
       "      <td>6</td>\n",
       "    </tr>\n",
       "    <tr>\n",
       "      <th>14511</th>\n",
       "      <td>5</td>\n",
       "      <td>11608</td>\n",
       "      <td>56</td>\n",
       "      <td>8.5</td>\n",
       "      <td>2010</td>\n",
       "      <td>5</td>\n",
       "    </tr>\n",
       "    <tr>\n",
       "      <th>65</th>\n",
       "      <td>5</td>\n",
       "      <td>2511</td>\n",
       "      <td>32</td>\n",
       "      <td>8.8</td>\n",
       "      <td>2012</td>\n",
       "      <td>9</td>\n",
       "    </tr>\n",
       "    <tr>\n",
       "      <th>6350</th>\n",
       "      <td>5</td>\n",
       "      <td>10873</td>\n",
       "      <td>12</td>\n",
       "      <td>8.5</td>\n",
       "      <td>2004</td>\n",
       "      <td>11</td>\n",
       "    </tr>\n",
       "    <tr>\n",
       "      <th>2364</th>\n",
       "      <td>0</td>\n",
       "      <td>12023</td>\n",
       "      <td>10</td>\n",
       "      <td>9.0</td>\n",
       "      <td>2000</td>\n",
       "      <td>7</td>\n",
       "    </tr>\n",
       "    <tr>\n",
       "      <th>7130</th>\n",
       "      <td>5</td>\n",
       "      <td>3510</td>\n",
       "      <td>31</td>\n",
       "      <td>8.7</td>\n",
       "      <td>2005</td>\n",
       "      <td>9</td>\n",
       "    </tr>\n",
       "    <tr>\n",
       "      <th>15014</th>\n",
       "      <td>5</td>\n",
       "      <td>9439</td>\n",
       "      <td>57</td>\n",
       "      <td>8.5</td>\n",
       "      <td>2010</td>\n",
       "      <td>9</td>\n",
       "    </tr>\n",
       "    <tr>\n",
       "      <th>15775</th>\n",
       "      <td>5</td>\n",
       "      <td>2747</td>\n",
       "      <td>54</td>\n",
       "      <td>8.5</td>\n",
       "      <td>2011</td>\n",
       "      <td>5</td>\n",
       "    </tr>\n",
       "    <tr>\n",
       "      <th>2020</th>\n",
       "      <td>0</td>\n",
       "      <td>9171</td>\n",
       "      <td>21</td>\n",
       "      <td>9.0</td>\n",
       "      <td>2000</td>\n",
       "      <td>2</td>\n",
       "    </tr>\n",
       "    <tr>\n",
       "      <th>2260</th>\n",
       "      <td>0</td>\n",
       "      <td>9633</td>\n",
       "      <td>6</td>\n",
       "      <td>9.2</td>\n",
       "      <td>2000</td>\n",
       "      <td>6</td>\n",
       "    </tr>\n",
       "    <tr>\n",
       "      <th>11175</th>\n",
       "      <td>5</td>\n",
       "      <td>1007</td>\n",
       "      <td>54</td>\n",
       "      <td>8.6</td>\n",
       "      <td>2008</td>\n",
       "      <td>6</td>\n",
       "    </tr>\n",
       "    <tr>\n",
       "      <th>16898</th>\n",
       "      <td>0</td>\n",
       "      <td>6132</td>\n",
       "      <td>29</td>\n",
       "      <td>9.1</td>\n",
       "      <td>2013</td>\n",
       "      <td>3</td>\n",
       "    </tr>\n",
       "    <tr>\n",
       "      <th>874</th>\n",
       "      <td>0</td>\n",
       "      <td>7007</td>\n",
       "      <td>30</td>\n",
       "      <td>9.4</td>\n",
       "      <td>1998</td>\n",
       "      <td>9</td>\n",
       "    </tr>\n",
       "    <tr>\n",
       "      <th>7614</th>\n",
       "      <td>5</td>\n",
       "      <td>5853</td>\n",
       "      <td>53</td>\n",
       "      <td>8.7</td>\n",
       "      <td>2006</td>\n",
       "      <td>1</td>\n",
       "    </tr>\n",
       "    <tr>\n",
       "      <th>6200</th>\n",
       "      <td>5</td>\n",
       "      <td>2879</td>\n",
       "      <td>12</td>\n",
       "      <td>8.5</td>\n",
       "      <td>2004</td>\n",
       "      <td>9</td>\n",
       "    </tr>\n",
       "    <tr>\n",
       "      <th>10269</th>\n",
       "      <td>5</td>\n",
       "      <td>11416</td>\n",
       "      <td>50</td>\n",
       "      <td>8.0</td>\n",
       "      <td>2007</td>\n",
       "      <td>12</td>\n",
       "    </tr>\n",
       "    <tr>\n",
       "      <th>16914</th>\n",
       "      <td>0</td>\n",
       "      <td>3356</td>\n",
       "      <td>23</td>\n",
       "      <td>9.0</td>\n",
       "      <td>2013</td>\n",
       "      <td>3</td>\n",
       "    </tr>\n",
       "    <tr>\n",
       "      <th>4733</th>\n",
       "      <td>0</td>\n",
       "      <td>4308</td>\n",
       "      <td>9</td>\n",
       "      <td>9.0</td>\n",
       "      <td>2003</td>\n",
       "      <td>4</td>\n",
       "    </tr>\n",
       "  </tbody>\n",
       "</table>\n",
       "</div>"
      ],
      "text/plain": [
       "       score_phrase  title  platform  score  release_year  release_month\n",
       "5445              5   6918        29    8.5          2003             12\n",
       "11233             5  10879        41    8.5          2008              7\n",
       "3439              5   6237         9    8.5          2001             11\n",
       "4722              5  12285        29    8.5          2003              3\n",
       "2617              0   2507         6    9.4          2000             10\n",
       "16030             5   7049        54    8.5          2011              9\n",
       "16630             5   1846        57    8.5          2012              3\n",
       "2588              5  10468        30    8.5          2000             10\n",
       "7127              5   3510        53    8.7          2005              9\n",
       "8948              5   5189        50    8.0          2007              1\n",
       "5220              5   6918        53    8.7          2003             10\n",
       "12981             5   6090        27    8.6          2009              6\n",
       "14511             5  11608        56    8.5          2010              5\n",
       "65                5   2511        32    8.8          2012              9\n",
       "6350              5  10873        12    8.5          2004             11\n",
       "2364              0  12023        10    9.0          2000              7\n",
       "7130              5   3510        31    8.7          2005              9\n",
       "15014             5   9439        57    8.5          2010              9\n",
       "15775             5   2747        54    8.5          2011              5\n",
       "2020              0   9171        21    9.0          2000              2\n",
       "2260              0   9633         6    9.2          2000              6\n",
       "11175             5   1007        54    8.6          2008              6\n",
       "16898             0   6132        29    9.1          2013              3\n",
       "874               0   7007        30    9.4          1998              9\n",
       "7614              5   5853        53    8.7          2006              1\n",
       "6200              5   2879        12    8.5          2004              9\n",
       "10269             5  11416        50    8.0          2007             12\n",
       "16914             0   3356        23    9.0          2013              3\n",
       "4733              0   4308         9    9.0          2003              4"
      ]
     },
     "execution_count": 46,
     "metadata": {},
     "output_type": "execute_result"
    }
   ],
   "source": [
    "# print test Data for the false positives (Editor's Choice=No incorrectly classified as Yes)\n",
    "print X_test[(y_test==0) & (y_pred==1)].shape\n",
    "X_test[(y_test==0) & (y_pred==1)]"
   ]
  },
  {
   "cell_type": "markdown",
   "metadata": {},
   "source": [
    "### So, these are the data points for which our model predicting 'Yes' But it is 'No'  "
   ]
  },
  {
   "cell_type": "code",
   "execution_count": 47,
   "metadata": {
    "collapsed": false,
    "scrolled": false
   },
   "outputs": [
    {
     "name": "stdout",
     "output_type": "stream",
     "text": [
      "(23, 6)\n"
     ]
    },
    {
     "data": {
      "text/html": [
       "<div>\n",
       "<table border=\"1\" class=\"dataframe\">\n",
       "  <thead>\n",
       "    <tr style=\"text-align: right;\">\n",
       "      <th></th>\n",
       "      <th>score_phrase</th>\n",
       "      <th>title</th>\n",
       "      <th>platform</th>\n",
       "      <th>score</th>\n",
       "      <th>release_year</th>\n",
       "      <th>release_month</th>\n",
       "    </tr>\n",
       "  </thead>\n",
       "  <tbody>\n",
       "    <tr>\n",
       "      <th>16949</th>\n",
       "      <td>5</td>\n",
       "      <td>4982</td>\n",
       "      <td>29</td>\n",
       "      <td>8.5</td>\n",
       "      <td>2013</td>\n",
       "      <td>3</td>\n",
       "    </tr>\n",
       "    <tr>\n",
       "      <th>10537</th>\n",
       "      <td>5</td>\n",
       "      <td>1422</td>\n",
       "      <td>58</td>\n",
       "      <td>8.0</td>\n",
       "      <td>2007</td>\n",
       "      <td>12</td>\n",
       "    </tr>\n",
       "    <tr>\n",
       "      <th>8568</th>\n",
       "      <td>5</td>\n",
       "      <td>10236</td>\n",
       "      <td>46</td>\n",
       "      <td>8.4</td>\n",
       "      <td>2006</td>\n",
       "      <td>11</td>\n",
       "    </tr>\n",
       "    <tr>\n",
       "      <th>1679</th>\n",
       "      <td>5</td>\n",
       "      <td>11928</td>\n",
       "      <td>24</td>\n",
       "      <td>8.9</td>\n",
       "      <td>1999</td>\n",
       "      <td>11</td>\n",
       "    </tr>\n",
       "    <tr>\n",
       "      <th>17155</th>\n",
       "      <td>5</td>\n",
       "      <td>7763</td>\n",
       "      <td>47</td>\n",
       "      <td>8.8</td>\n",
       "      <td>2013</td>\n",
       "      <td>7</td>\n",
       "    </tr>\n",
       "    <tr>\n",
       "      <th>984</th>\n",
       "      <td>5</td>\n",
       "      <td>11323</td>\n",
       "      <td>30</td>\n",
       "      <td>8.7</td>\n",
       "      <td>1998</td>\n",
       "      <td>8</td>\n",
       "    </tr>\n",
       "    <tr>\n",
       "      <th>1822</th>\n",
       "      <td>0</td>\n",
       "      <td>8333</td>\n",
       "      <td>10</td>\n",
       "      <td>9.0</td>\n",
       "      <td>1999</td>\n",
       "      <td>12</td>\n",
       "    </tr>\n",
       "    <tr>\n",
       "      <th>7128</th>\n",
       "      <td>5</td>\n",
       "      <td>11660</td>\n",
       "      <td>29</td>\n",
       "      <td>8.4</td>\n",
       "      <td>2005</td>\n",
       "      <td>9</td>\n",
       "    </tr>\n",
       "    <tr>\n",
       "      <th>3060</th>\n",
       "      <td>5</td>\n",
       "      <td>384</td>\n",
       "      <td>31</td>\n",
       "      <td>8.4</td>\n",
       "      <td>2001</td>\n",
       "      <td>3</td>\n",
       "    </tr>\n",
       "    <tr>\n",
       "      <th>17387</th>\n",
       "      <td>5</td>\n",
       "      <td>8103</td>\n",
       "      <td>23</td>\n",
       "      <td>8.5</td>\n",
       "      <td>2013</td>\n",
       "      <td>11</td>\n",
       "    </tr>\n",
       "    <tr>\n",
       "      <th>1311</th>\n",
       "      <td>5</td>\n",
       "      <td>12244</td>\n",
       "      <td>24</td>\n",
       "      <td>8.8</td>\n",
       "      <td>1999</td>\n",
       "      <td>6</td>\n",
       "    </tr>\n",
       "    <tr>\n",
       "      <th>16260</th>\n",
       "      <td>5</td>\n",
       "      <td>6436</td>\n",
       "      <td>29</td>\n",
       "      <td>8.0</td>\n",
       "      <td>2011</td>\n",
       "      <td>10</td>\n",
       "    </tr>\n",
       "    <tr>\n",
       "      <th>10975</th>\n",
       "      <td>5</td>\n",
       "      <td>7914</td>\n",
       "      <td>46</td>\n",
       "      <td>8.0</td>\n",
       "      <td>2008</td>\n",
       "      <td>5</td>\n",
       "    </tr>\n",
       "    <tr>\n",
       "      <th>15830</th>\n",
       "      <td>5</td>\n",
       "      <td>1748</td>\n",
       "      <td>32</td>\n",
       "      <td>8.0</td>\n",
       "      <td>2011</td>\n",
       "      <td>6</td>\n",
       "    </tr>\n",
       "    <tr>\n",
       "      <th>2926</th>\n",
       "      <td>5</td>\n",
       "      <td>10638</td>\n",
       "      <td>29</td>\n",
       "      <td>8.4</td>\n",
       "      <td>2000</td>\n",
       "      <td>12</td>\n",
       "    </tr>\n",
       "    <tr>\n",
       "      <th>18170</th>\n",
       "      <td>5</td>\n",
       "      <td>10691</td>\n",
       "      <td>33</td>\n",
       "      <td>8.5</td>\n",
       "      <td>2015</td>\n",
       "      <td>3</td>\n",
       "    </tr>\n",
       "    <tr>\n",
       "      <th>1447</th>\n",
       "      <td>0</td>\n",
       "      <td>6347</td>\n",
       "      <td>21</td>\n",
       "      <td>9.0</td>\n",
       "      <td>1999</td>\n",
       "      <td>7</td>\n",
       "    </tr>\n",
       "    <tr>\n",
       "      <th>2912</th>\n",
       "      <td>5</td>\n",
       "      <td>3012</td>\n",
       "      <td>10</td>\n",
       "      <td>8.0</td>\n",
       "      <td>2001</td>\n",
       "      <td>1</td>\n",
       "    </tr>\n",
       "    <tr>\n",
       "      <th>16817</th>\n",
       "      <td>5</td>\n",
       "      <td>5384</td>\n",
       "      <td>23</td>\n",
       "      <td>8.5</td>\n",
       "      <td>2012</td>\n",
       "      <td>7</td>\n",
       "    </tr>\n",
       "    <tr>\n",
       "      <th>989</th>\n",
       "      <td>5</td>\n",
       "      <td>7202</td>\n",
       "      <td>30</td>\n",
       "      <td>8.0</td>\n",
       "      <td>1998</td>\n",
       "      <td>8</td>\n",
       "    </tr>\n",
       "    <tr>\n",
       "      <th>14270</th>\n",
       "      <td>5</td>\n",
       "      <td>5782</td>\n",
       "      <td>34</td>\n",
       "      <td>8.2</td>\n",
       "      <td>2010</td>\n",
       "      <td>3</td>\n",
       "    </tr>\n",
       "    <tr>\n",
       "      <th>1349</th>\n",
       "      <td>5</td>\n",
       "      <td>12307</td>\n",
       "      <td>29</td>\n",
       "      <td>8.6</td>\n",
       "      <td>1999</td>\n",
       "      <td>7</td>\n",
       "    </tr>\n",
       "    <tr>\n",
       "      <th>4539</th>\n",
       "      <td>5</td>\n",
       "      <td>2235</td>\n",
       "      <td>53</td>\n",
       "      <td>8.1</td>\n",
       "      <td>2003</td>\n",
       "      <td>1</td>\n",
       "    </tr>\n",
       "  </tbody>\n",
       "</table>\n",
       "</div>"
      ],
      "text/plain": [
       "       score_phrase  title  platform  score  release_year  release_month\n",
       "16949             5   4982        29    8.5          2013              3\n",
       "10537             5   1422        58    8.0          2007             12\n",
       "8568              5  10236        46    8.4          2006             11\n",
       "1679              5  11928        24    8.9          1999             11\n",
       "17155             5   7763        47    8.8          2013              7\n",
       "984               5  11323        30    8.7          1998              8\n",
       "1822              0   8333        10    9.0          1999             12\n",
       "7128              5  11660        29    8.4          2005              9\n",
       "3060              5    384        31    8.4          2001              3\n",
       "17387             5   8103        23    8.5          2013             11\n",
       "1311              5  12244        24    8.8          1999              6\n",
       "16260             5   6436        29    8.0          2011             10\n",
       "10975             5   7914        46    8.0          2008              5\n",
       "15830             5   1748        32    8.0          2011              6\n",
       "2926              5  10638        29    8.4          2000             12\n",
       "18170             5  10691        33    8.5          2015              3\n",
       "1447              0   6347        21    9.0          1999              7\n",
       "2912              5   3012        10    8.0          2001              1\n",
       "16817             5   5384        23    8.5          2012              7\n",
       "989               5   7202        30    8.0          1998              8\n",
       "14270             5   5782        34    8.2          2010              3\n",
       "1349              5  12307        29    8.6          1999              7\n",
       "4539              5   2235        53    8.1          2003              1"
      ]
     },
     "execution_count": 47,
     "metadata": {},
     "output_type": "execute_result"
    }
   ],
   "source": [
    "# print test Data for the false positives (Editor's Choice=Yes incorrectly classified as No)\n",
    "print X_test[(y_test==1) & (y_pred==0)].shape\n",
    "X_test[(y_test==1) & (y_pred==0)]"
   ]
  },
  {
   "cell_type": "markdown",
   "metadata": {},
   "source": [
    "### It looks like where **score_phrase** equals to 0 or 5 only there it was not predicting well. "
   ]
  },
  {
   "cell_type": "code",
   "execution_count": 48,
   "metadata": {
    "collapsed": false
   },
   "outputs": [
    {
     "data": {
      "text/plain": [
       "5     4773\n",
       "4     4741\n",
       "8     2945\n",
       "7     1959\n",
       "0     1804\n",
       "2     1269\n",
       "1      664\n",
       "9      340\n",
       "10      72\n",
       "6       55\n",
       "3        3\n",
       "Name: score_phrase, dtype: int64"
      ]
     },
     "execution_count": 48,
     "metadata": {},
     "output_type": "execute_result"
    }
   ],
   "source": [
    "data['score_phrase'].value_counts()"
   ]
  },
  {
   "cell_type": "code",
   "execution_count": 49,
   "metadata": {
    "collapsed": false
   },
   "outputs": [
    {
     "data": {
      "text/plain": [
       "Great          4773\n",
       "Good           4741\n",
       "Okay           2945\n",
       "Mediocre       1959\n",
       "Amazing        1804\n",
       "Bad            1269\n",
       "Awful           664\n",
       "Painful         340\n",
       "Unbearable       72\n",
       "Masterpiece      55\n",
       "Disaster          3\n",
       "Name: score_phrase, dtype: int64"
      ]
     },
     "execution_count": 49,
     "metadata": {},
     "output_type": "execute_result"
    }
   ],
   "source": [
    "data_score_phrase.value_counts()"
   ]
  },
  {
   "cell_type": "markdown",
   "metadata": {
    "collapsed": true
   },
   "source": [
    "###  After LabelEncoder() we can see that 0 is Amazing and 5 is Great"
   ]
  },
  {
   "cell_type": "code",
   "execution_count": 50,
   "metadata": {
    "collapsed": false,
    "scrolled": true
   },
   "outputs": [
    {
     "data": {
      "text/plain": [
       "score_phrase\n",
       "0      9.176663\n",
       "1      3.290211\n",
       "2      4.331600\n",
       "3      0.666667\n",
       "4      7.369099\n",
       "5      8.316510\n",
       "6     10.000000\n",
       "7      5.318530\n",
       "8      6.366553\n",
       "9      2.267941\n",
       "10     1.290278\n",
       "Name: score, dtype: float64"
      ]
     },
     "execution_count": 50,
     "metadata": {},
     "output_type": "execute_result"
    }
   ],
   "source": [
    "data['score'].groupby(data['score_phrase']).mean()"
   ]
  },
  {
   "cell_type": "markdown",
   "metadata": {},
   "source": [
    "#### From this we can conclude that:  our model give accuracy of 97.2%. However model was only predict wrong when it see words like 'Amazing' ,'Great' or score was in between '8.3 - 9.2' still game not getting award.\n",
    "However it was impossible even for a man to predict accurate when words are **amazing** or **great** and still game not getting award."
   ]
  },
  {
   "cell_type": "markdown",
   "metadata": {},
   "source": [
    "#### Developed By:\n",
    "\n",
    "    Aagam Jain\n",
    "    aagamjain131252cse@gmail.com\n",
    "    +91-8057157060\n",
    "    \n",
    "However if you need any help regarding Notebook you can mail me or call me anytime."
   ]
  }
 ],
 "metadata": {
  "anaconda-cloud": {},
  "kernelspec": {
   "display_name": "Python [Root]",
   "language": "python",
   "name": "Python [Root]"
  },
  "language_info": {
   "codemirror_mode": {
    "name": "ipython",
    "version": 2
   },
   "file_extension": ".py",
   "mimetype": "text/x-python",
   "name": "python",
   "nbconvert_exporter": "python",
   "pygments_lexer": "ipython2",
   "version": "2.7.12"
  }
 },
 "nbformat": 4,
 "nbformat_minor": 0
}
