{
 "cells": [
  {
   "cell_type": "code",
   "execution_count": 1,
   "metadata": {
    "collapsed": false
   },
   "outputs": [
    {
     "name": "stdout",
     "output_type": "stream",
     "text": [
      "Populating the interactive namespace from numpy and matplotlib\n"
     ]
    }
   ],
   "source": [
    "import numpy as np\n",
    "import pandas as pd\n",
    "import matplotlib.pyplot as plt\n",
    "%pylab inline"
   ]
  },
  {
   "cell_type": "code",
   "execution_count": 13,
   "metadata": {
    "collapsed": true
   },
   "outputs": [],
   "source": [
    "train = pd.read_csv(\"C:\\\\Users\\\\aagam\\\\Desktop\\\\52404120-e-Dataset-2\\\\Dataset-2\\\\competition_second_train.csv\",names = np.arange(0,76))\n",
    "test = pd.read_csv(\"C:\\\\Users\\\\aagam\\\\Desktop\\\\52404120-e-Dataset-2\\\\Dataset-2\\\\competition_second_test.csv\",names = np.arange(0,75))"
   ]
  },
  {
   "cell_type": "code",
   "execution_count": 14,
   "metadata": {
    "collapsed": false
   },
   "outputs": [
    {
     "data": {
      "text/html": [
       "<div>\n",
       "<table border=\"1\" class=\"dataframe\">\n",
       "  <thead>\n",
       "    <tr style=\"text-align: right;\">\n",
       "      <th></th>\n",
       "      <th>0</th>\n",
       "      <th>1</th>\n",
       "      <th>2</th>\n",
       "      <th>3</th>\n",
       "      <th>4</th>\n",
       "      <th>5</th>\n",
       "      <th>6</th>\n",
       "      <th>7</th>\n",
       "      <th>8</th>\n",
       "      <th>9</th>\n",
       "      <th>...</th>\n",
       "      <th>66</th>\n",
       "      <th>67</th>\n",
       "      <th>68</th>\n",
       "      <th>69</th>\n",
       "      <th>70</th>\n",
       "      <th>71</th>\n",
       "      <th>72</th>\n",
       "      <th>73</th>\n",
       "      <th>74</th>\n",
       "      <th>75</th>\n",
       "    </tr>\n",
       "  </thead>\n",
       "  <tbody>\n",
       "    <tr>\n",
       "      <th>0</th>\n",
       "      <td>1</td>\n",
       "      <td>60</td>\n",
       "      <td>RL</td>\n",
       "      <td>65.0</td>\n",
       "      <td>8450</td>\n",
       "      <td>Pave</td>\n",
       "      <td>NaN</td>\n",
       "      <td>Reg</td>\n",
       "      <td>Lvl</td>\n",
       "      <td>Inside</td>\n",
       "      <td>...</td>\n",
       "      <td>0</td>\n",
       "      <td>NaN</td>\n",
       "      <td>NaN</td>\n",
       "      <td>NaN</td>\n",
       "      <td>0</td>\n",
       "      <td>2</td>\n",
       "      <td>2008</td>\n",
       "      <td>WD</td>\n",
       "      <td>Normal</td>\n",
       "      <td>208500</td>\n",
       "    </tr>\n",
       "    <tr>\n",
       "      <th>1</th>\n",
       "      <td>2</td>\n",
       "      <td>20</td>\n",
       "      <td>RL</td>\n",
       "      <td>80.0</td>\n",
       "      <td>9600</td>\n",
       "      <td>Pave</td>\n",
       "      <td>NaN</td>\n",
       "      <td>Reg</td>\n",
       "      <td>Lvl</td>\n",
       "      <td>FR2</td>\n",
       "      <td>...</td>\n",
       "      <td>0</td>\n",
       "      <td>NaN</td>\n",
       "      <td>NaN</td>\n",
       "      <td>NaN</td>\n",
       "      <td>0</td>\n",
       "      <td>5</td>\n",
       "      <td>2007</td>\n",
       "      <td>WD</td>\n",
       "      <td>Normal</td>\n",
       "      <td>181500</td>\n",
       "    </tr>\n",
       "    <tr>\n",
       "      <th>2</th>\n",
       "      <td>3</td>\n",
       "      <td>60</td>\n",
       "      <td>RL</td>\n",
       "      <td>68.0</td>\n",
       "      <td>11250</td>\n",
       "      <td>Pave</td>\n",
       "      <td>NaN</td>\n",
       "      <td>IR1</td>\n",
       "      <td>Lvl</td>\n",
       "      <td>Inside</td>\n",
       "      <td>...</td>\n",
       "      <td>0</td>\n",
       "      <td>NaN</td>\n",
       "      <td>NaN</td>\n",
       "      <td>NaN</td>\n",
       "      <td>0</td>\n",
       "      <td>9</td>\n",
       "      <td>2008</td>\n",
       "      <td>WD</td>\n",
       "      <td>Normal</td>\n",
       "      <td>223500</td>\n",
       "    </tr>\n",
       "    <tr>\n",
       "      <th>3</th>\n",
       "      <td>4</td>\n",
       "      <td>70</td>\n",
       "      <td>RL</td>\n",
       "      <td>60.0</td>\n",
       "      <td>9550</td>\n",
       "      <td>Pave</td>\n",
       "      <td>NaN</td>\n",
       "      <td>IR1</td>\n",
       "      <td>Lvl</td>\n",
       "      <td>Corner</td>\n",
       "      <td>...</td>\n",
       "      <td>0</td>\n",
       "      <td>NaN</td>\n",
       "      <td>NaN</td>\n",
       "      <td>NaN</td>\n",
       "      <td>0</td>\n",
       "      <td>2</td>\n",
       "      <td>2006</td>\n",
       "      <td>WD</td>\n",
       "      <td>Abnorml</td>\n",
       "      <td>140000</td>\n",
       "    </tr>\n",
       "    <tr>\n",
       "      <th>4</th>\n",
       "      <td>5</td>\n",
       "      <td>60</td>\n",
       "      <td>RL</td>\n",
       "      <td>84.0</td>\n",
       "      <td>14260</td>\n",
       "      <td>Pave</td>\n",
       "      <td>NaN</td>\n",
       "      <td>IR1</td>\n",
       "      <td>Lvl</td>\n",
       "      <td>FR2</td>\n",
       "      <td>...</td>\n",
       "      <td>0</td>\n",
       "      <td>NaN</td>\n",
       "      <td>NaN</td>\n",
       "      <td>NaN</td>\n",
       "      <td>0</td>\n",
       "      <td>12</td>\n",
       "      <td>2008</td>\n",
       "      <td>WD</td>\n",
       "      <td>Normal</td>\n",
       "      <td>250000</td>\n",
       "    </tr>\n",
       "  </tbody>\n",
       "</table>\n",
       "<p>5 rows × 76 columns</p>\n",
       "</div>"
      ],
      "text/plain": [
       "   0   1   2     3      4     5    6    7    8       9    ...   66   67   68  \\\n",
       "0   1  60  RL  65.0   8450  Pave  NaN  Reg  Lvl  Inside   ...    0  NaN  NaN   \n",
       "1   2  20  RL  80.0   9600  Pave  NaN  Reg  Lvl     FR2   ...    0  NaN  NaN   \n",
       "2   3  60  RL  68.0  11250  Pave  NaN  IR1  Lvl  Inside   ...    0  NaN  NaN   \n",
       "3   4  70  RL  60.0   9550  Pave  NaN  IR1  Lvl  Corner   ...    0  NaN  NaN   \n",
       "4   5  60  RL  84.0  14260  Pave  NaN  IR1  Lvl     FR2   ...    0  NaN  NaN   \n",
       "\n",
       "    69 70  71    72  73       74      75  \n",
       "0  NaN  0   2  2008  WD   Normal  208500  \n",
       "1  NaN  0   5  2007  WD   Normal  181500  \n",
       "2  NaN  0   9  2008  WD   Normal  223500  \n",
       "3  NaN  0   2  2006  WD  Abnorml  140000  \n",
       "4  NaN  0  12  2008  WD   Normal  250000  \n",
       "\n",
       "[5 rows x 76 columns]"
      ]
     },
     "execution_count": 14,
     "metadata": {},
     "output_type": "execute_result"
    }
   ],
   "source": [
    "train.head()"
   ]
  },
  {
   "cell_type": "code",
   "execution_count": 15,
   "metadata": {
    "collapsed": false,
    "scrolled": true
   },
   "outputs": [
    {
     "data": {
      "text/html": [
       "<div>\n",
       "<table border=\"1\" class=\"dataframe\">\n",
       "  <thead>\n",
       "    <tr style=\"text-align: right;\">\n",
       "      <th></th>\n",
       "      <th>0</th>\n",
       "      <th>1</th>\n",
       "      <th>2</th>\n",
       "      <th>3</th>\n",
       "      <th>4</th>\n",
       "      <th>5</th>\n",
       "      <th>6</th>\n",
       "      <th>7</th>\n",
       "      <th>8</th>\n",
       "      <th>9</th>\n",
       "      <th>...</th>\n",
       "      <th>65</th>\n",
       "      <th>66</th>\n",
       "      <th>67</th>\n",
       "      <th>68</th>\n",
       "      <th>69</th>\n",
       "      <th>70</th>\n",
       "      <th>71</th>\n",
       "      <th>72</th>\n",
       "      <th>73</th>\n",
       "      <th>74</th>\n",
       "    </tr>\n",
       "  </thead>\n",
       "  <tbody>\n",
       "    <tr>\n",
       "      <th>0</th>\n",
       "      <td>1051</td>\n",
       "      <td>20</td>\n",
       "      <td>RL</td>\n",
       "      <td>73.0</td>\n",
       "      <td>8993</td>\n",
       "      <td>Pave</td>\n",
       "      <td>NaN</td>\n",
       "      <td>IR1</td>\n",
       "      <td>Lvl</td>\n",
       "      <td>Inside</td>\n",
       "      <td>...</td>\n",
       "      <td>0</td>\n",
       "      <td>0</td>\n",
       "      <td>NaN</td>\n",
       "      <td>NaN</td>\n",
       "      <td>NaN</td>\n",
       "      <td>0</td>\n",
       "      <td>8</td>\n",
       "      <td>2007</td>\n",
       "      <td>New</td>\n",
       "      <td>Partial</td>\n",
       "    </tr>\n",
       "    <tr>\n",
       "      <th>1</th>\n",
       "      <td>1052</td>\n",
       "      <td>20</td>\n",
       "      <td>RL</td>\n",
       "      <td>103.0</td>\n",
       "      <td>11175</td>\n",
       "      <td>Pave</td>\n",
       "      <td>NaN</td>\n",
       "      <td>IR1</td>\n",
       "      <td>Lvl</td>\n",
       "      <td>Corner</td>\n",
       "      <td>...</td>\n",
       "      <td>0</td>\n",
       "      <td>0</td>\n",
       "      <td>NaN</td>\n",
       "      <td>NaN</td>\n",
       "      <td>NaN</td>\n",
       "      <td>0</td>\n",
       "      <td>10</td>\n",
       "      <td>2007</td>\n",
       "      <td>New</td>\n",
       "      <td>Partial</td>\n",
       "    </tr>\n",
       "    <tr>\n",
       "      <th>2</th>\n",
       "      <td>1053</td>\n",
       "      <td>60</td>\n",
       "      <td>RL</td>\n",
       "      <td>100.0</td>\n",
       "      <td>9500</td>\n",
       "      <td>Pave</td>\n",
       "      <td>NaN</td>\n",
       "      <td>Reg</td>\n",
       "      <td>Lvl</td>\n",
       "      <td>Corner</td>\n",
       "      <td>...</td>\n",
       "      <td>0</td>\n",
       "      <td>0</td>\n",
       "      <td>NaN</td>\n",
       "      <td>GdPrv</td>\n",
       "      <td>NaN</td>\n",
       "      <td>0</td>\n",
       "      <td>6</td>\n",
       "      <td>2007</td>\n",
       "      <td>WD</td>\n",
       "      <td>Normal</td>\n",
       "    </tr>\n",
       "    <tr>\n",
       "      <th>3</th>\n",
       "      <td>1054</td>\n",
       "      <td>20</td>\n",
       "      <td>RL</td>\n",
       "      <td>68.0</td>\n",
       "      <td>8562</td>\n",
       "      <td>Pave</td>\n",
       "      <td>NaN</td>\n",
       "      <td>Reg</td>\n",
       "      <td>Lvl</td>\n",
       "      <td>Inside</td>\n",
       "      <td>...</td>\n",
       "      <td>0</td>\n",
       "      <td>0</td>\n",
       "      <td>NaN</td>\n",
       "      <td>NaN</td>\n",
       "      <td>NaN</td>\n",
       "      <td>0</td>\n",
       "      <td>5</td>\n",
       "      <td>2010</td>\n",
       "      <td>WD</td>\n",
       "      <td>Normal</td>\n",
       "    </tr>\n",
       "    <tr>\n",
       "      <th>4</th>\n",
       "      <td>1055</td>\n",
       "      <td>60</td>\n",
       "      <td>RL</td>\n",
       "      <td>90.0</td>\n",
       "      <td>11367</td>\n",
       "      <td>Pave</td>\n",
       "      <td>NaN</td>\n",
       "      <td>Reg</td>\n",
       "      <td>Lvl</td>\n",
       "      <td>Corner</td>\n",
       "      <td>...</td>\n",
       "      <td>0</td>\n",
       "      <td>0</td>\n",
       "      <td>NaN</td>\n",
       "      <td>NaN</td>\n",
       "      <td>NaN</td>\n",
       "      <td>0</td>\n",
       "      <td>11</td>\n",
       "      <td>2006</td>\n",
       "      <td>WD</td>\n",
       "      <td>Normal</td>\n",
       "    </tr>\n",
       "  </tbody>\n",
       "</table>\n",
       "<p>5 rows × 75 columns</p>\n",
       "</div>"
      ],
      "text/plain": [
       "     0   1   2      3      4     5    6    7    8       9    ...    65 66  \\\n",
       "0  1051  20  RL   73.0   8993  Pave  NaN  IR1  Lvl  Inside   ...     0  0   \n",
       "1  1052  20  RL  103.0  11175  Pave  NaN  IR1  Lvl  Corner   ...     0  0   \n",
       "2  1053  60  RL  100.0   9500  Pave  NaN  Reg  Lvl  Corner   ...     0  0   \n",
       "3  1054  20  RL   68.0   8562  Pave  NaN  Reg  Lvl  Inside   ...     0  0   \n",
       "4  1055  60  RL   90.0  11367  Pave  NaN  Reg  Lvl  Corner   ...     0  0   \n",
       "\n",
       "    67     68   69  70  71    72   73       74  \n",
       "0  NaN    NaN  NaN   0   8  2007  New  Partial  \n",
       "1  NaN    NaN  NaN   0  10  2007  New  Partial  \n",
       "2  NaN  GdPrv  NaN   0   6  2007   WD   Normal  \n",
       "3  NaN    NaN  NaN   0   5  2010   WD   Normal  \n",
       "4  NaN    NaN  NaN   0  11  2006   WD   Normal  \n",
       "\n",
       "[5 rows x 75 columns]"
      ]
     },
     "execution_count": 15,
     "metadata": {},
     "output_type": "execute_result"
    }
   ],
   "source": [
    "test.head()"
   ]
  },
  {
   "cell_type": "code",
   "execution_count": 16,
   "metadata": {
    "collapsed": false
   },
   "outputs": [
    {
     "name": "stdout",
     "output_type": "stream",
     "text": [
      "Data Dimensions:  (1050, 76)\n",
      "Number of Null values in columns:  0        0\n",
      "1        0\n",
      "2        0\n",
      "3      185\n",
      "4        0\n",
      "5        0\n",
      "6      985\n",
      "7        0\n",
      "8        0\n",
      "9        0\n",
      "10       0\n",
      "11       0\n",
      "12       0\n",
      "13       0\n",
      "14       0\n",
      "15       0\n",
      "16       0\n",
      "17       0\n",
      "18       0\n",
      "19       0\n",
      "20       0\n",
      "21       0\n",
      "22       6\n",
      "23       0\n",
      "24       0\n",
      "25       0\n",
      "26      30\n",
      "27      30\n",
      "28      31\n",
      "29      30\n",
      "      ... \n",
      "46       0\n",
      "47       0\n",
      "48       0\n",
      "49       0\n",
      "50       0\n",
      "51       0\n",
      "52       0\n",
      "53     499\n",
      "54      60\n",
      "55      60\n",
      "56       0\n",
      "57       0\n",
      "58      60\n",
      "59      60\n",
      "60       0\n",
      "61       0\n",
      "62       0\n",
      "63       0\n",
      "64       0\n",
      "65       0\n",
      "66       0\n",
      "67    1048\n",
      "68     851\n",
      "69    1007\n",
      "70       0\n",
      "71       0\n",
      "72       0\n",
      "73       0\n",
      "74       0\n",
      "75       0\n",
      "dtype: int64\n"
     ]
    }
   ],
   "source": [
    "print 'Data Dimensions: ',train.shape\n",
    "print 'Number of Null values in columns: ', train[train.columns].isnull().sum()"
   ]
  },
  {
   "cell_type": "code",
   "execution_count": 17,
   "metadata": {
    "collapsed": false
   },
   "outputs": [
    {
     "name": "stdout",
     "output_type": "stream",
     "text": [
      "Data Dimensions:  (410, 75)\n",
      "Number of Null values in columns:  0       0\n",
      "1       0\n",
      "2       0\n",
      "3      74\n",
      "4       0\n",
      "5       0\n",
      "6     384\n",
      "7       0\n",
      "8       0\n",
      "9       0\n",
      "10      0\n",
      "11      0\n",
      "12      0\n",
      "13      0\n",
      "14      0\n",
      "15      0\n",
      "16      0\n",
      "17      0\n",
      "18      0\n",
      "19      0\n",
      "20      0\n",
      "21      0\n",
      "22      2\n",
      "23      0\n",
      "24      0\n",
      "25      0\n",
      "26      7\n",
      "27      7\n",
      "28      7\n",
      "29      7\n",
      "     ... \n",
      "45      0\n",
      "46      0\n",
      "47      0\n",
      "48      0\n",
      "49      0\n",
      "50      0\n",
      "51      0\n",
      "52      0\n",
      "53    191\n",
      "54     21\n",
      "55     21\n",
      "56      0\n",
      "57      0\n",
      "58     21\n",
      "59     21\n",
      "60      0\n",
      "61      0\n",
      "62      0\n",
      "63      0\n",
      "64      0\n",
      "65      0\n",
      "66      0\n",
      "67    405\n",
      "68    328\n",
      "69    399\n",
      "70      0\n",
      "71      0\n",
      "72      0\n",
      "73      0\n",
      "74      0\n",
      "dtype: int64\n"
     ]
    }
   ],
   "source": [
    "print 'Data Dimensions: ',test.shape\n",
    "print 'Number of Null values in columns: ', test[test.columns].isnull().sum()"
   ]
  },
  {
   "cell_type": "markdown",
   "metadata": {},
   "source": [
    "### Null columns where null values are greater than 100"
   ]
  },
  {
   "cell_type": "code",
   "execution_count": 20,
   "metadata": {
    "collapsed": false
   },
   "outputs": [
    {
     "name": "stdout",
     "output_type": "stream",
     "text": [
      "3      185\n",
      "6      985\n",
      "53     499\n",
      "67    1048\n",
      "68     851\n",
      "69    1007\n",
      "dtype: int64\n"
     ]
    }
   ],
   "source": [
    "null = train[train.columns].isnull().sum()\n",
    "print null[null > 100]"
   ]
  },
  {
   "cell_type": "code",
   "execution_count": 21,
   "metadata": {
    "collapsed": false
   },
   "outputs": [
    {
     "name": "stdout",
     "output_type": "stream",
     "text": [
      "3      185\n",
      "6      985\n",
      "22       6\n",
      "26      30\n",
      "27      30\n",
      "28      31\n",
      "29      30\n",
      "31      31\n",
      "53     499\n",
      "54      60\n",
      "55      60\n",
      "58      60\n",
      "59      60\n",
      "67    1048\n",
      "68     851\n",
      "69    1007\n",
      "dtype: int64\n"
     ]
    }
   ],
   "source": [
    "print null[null > 0]"
   ]
  },
  {
   "cell_type": "code",
   "execution_count": 25,
   "metadata": {
    "collapsed": false
   },
   "outputs": [],
   "source": [
    "obj_col = train.columns[train.dtypes != int64]"
   ]
  },
  {
   "cell_type": "code",
   "execution_count": 26,
   "metadata": {
    "collapsed": false
   },
   "outputs": [
    {
     "data": {
      "text/plain": [
       "Int64Index([ 2,  3,  5,  6,  7,  8,  9, 10, 11, 12, 13, 14, 19, 20, 21, 22, 23,\n",
       "            24, 25, 26, 27, 28, 29, 31, 35, 36, 37, 38, 49, 51, 53, 54, 55, 58,\n",
       "            59, 60, 67, 68, 69, 73, 74],\n",
       "           dtype='int64')"
      ]
     },
     "execution_count": 26,
     "metadata": {},
     "output_type": "execute_result"
    }
   ],
   "source": [
    "obj_col"
   ]
  },
  {
   "cell_type": "markdown",
   "metadata": {},
   "source": [
    "### Converting object type columns into int"
   ]
  },
  {
   "cell_type": "code",
   "execution_count": 27,
   "metadata": {
    "collapsed": false
   },
   "outputs": [
    {
     "name": "stderr",
     "output_type": "stream",
     "text": [
      "C:\\Anaconda2\\lib\\site-packages\\numpy\\lib\\arraysetops.py:200: FutureWarning: numpy not_equal will not check object identity in the future. The comparison did not return the same result as suggested by the identity (`is`)) and will change.\n",
      "  flag = np.concatenate(([True], aux[1:] != aux[:-1]))\n"
     ]
    },
    {
     "data": {
      "text/plain": [
       "0     int64\n",
       "1     int64\n",
       "2     int64\n",
       "3     int64\n",
       "4     int64\n",
       "5     int64\n",
       "6     int64\n",
       "7     int64\n",
       "8     int64\n",
       "9     int64\n",
       "10    int64\n",
       "11    int64\n",
       "12    int64\n",
       "13    int64\n",
       "14    int64\n",
       "15    int64\n",
       "16    int64\n",
       "17    int64\n",
       "18    int64\n",
       "19    int64\n",
       "20    int64\n",
       "21    int64\n",
       "22    int64\n",
       "23    int64\n",
       "24    int64\n",
       "25    int64\n",
       "26    int64\n",
       "27    int64\n",
       "28    int64\n",
       "29    int64\n",
       "      ...  \n",
       "46    int64\n",
       "47    int64\n",
       "48    int64\n",
       "49    int64\n",
       "50    int64\n",
       "51    int64\n",
       "52    int64\n",
       "53    int64\n",
       "54    int64\n",
       "55    int64\n",
       "56    int64\n",
       "57    int64\n",
       "58    int64\n",
       "59    int64\n",
       "60    int64\n",
       "61    int64\n",
       "62    int64\n",
       "63    int64\n",
       "64    int64\n",
       "65    int64\n",
       "66    int64\n",
       "67    int64\n",
       "68    int64\n",
       "69    int64\n",
       "70    int64\n",
       "71    int64\n",
       "72    int64\n",
       "73    int64\n",
       "74    int64\n",
       "75    int64\n",
       "dtype: object"
      ]
     },
     "execution_count": 27,
     "metadata": {},
     "output_type": "execute_result"
    }
   ],
   "source": [
    "from sklearn.preprocessing import LabelEncoder\n",
    "le = LabelEncoder()\n",
    "for i in obj_col:\n",
    "    train[i] = le.fit_transform(train[i])\n",
    "train.dtypes "
   ]
  },
  {
   "cell_type": "code",
   "execution_count": 28,
   "metadata": {
    "collapsed": false
   },
   "outputs": [
    {
     "data": {
      "text/plain": [
       "Int64Index([], dtype='int64')"
      ]
     },
     "execution_count": 28,
     "metadata": {},
     "output_type": "execute_result"
    }
   ],
   "source": [
    "train.columns[train.dtypes != int64]"
   ]
  },
  {
   "cell_type": "code",
   "execution_count": 31,
   "metadata": {
    "collapsed": false
   },
   "outputs": [
    {
     "data": {
      "text/plain": [
       "Int64Index([ 2,  3,  5,  6,  7,  8,  9, 10, 11, 12, 13, 14, 19, 20, 21, 22, 23,\n",
       "            24, 25, 26, 27, 28, 29, 31, 35, 36, 37, 38, 49, 51, 53, 54, 55, 58,\n",
       "            59, 60, 67, 68, 69, 73, 74],\n",
       "           dtype='int64')"
      ]
     },
     "execution_count": 31,
     "metadata": {},
     "output_type": "execute_result"
    }
   ],
   "source": [
    "obj_col = test.columns[test.dtypes != int64]\n",
    "obj_col"
   ]
  },
  {
   "cell_type": "code",
   "execution_count": 32,
   "metadata": {
    "collapsed": false
   },
   "outputs": [
    {
     "data": {
      "text/plain": [
       "0     int64\n",
       "1     int64\n",
       "2     int64\n",
       "3     int64\n",
       "4     int64\n",
       "5     int64\n",
       "6     int64\n",
       "7     int64\n",
       "8     int64\n",
       "9     int64\n",
       "10    int64\n",
       "11    int64\n",
       "12    int64\n",
       "13    int64\n",
       "14    int64\n",
       "15    int64\n",
       "16    int64\n",
       "17    int64\n",
       "18    int64\n",
       "19    int64\n",
       "20    int64\n",
       "21    int64\n",
       "22    int64\n",
       "23    int64\n",
       "24    int64\n",
       "25    int64\n",
       "26    int64\n",
       "27    int64\n",
       "28    int64\n",
       "29    int64\n",
       "      ...  \n",
       "45    int64\n",
       "46    int64\n",
       "47    int64\n",
       "48    int64\n",
       "49    int64\n",
       "50    int64\n",
       "51    int64\n",
       "52    int64\n",
       "53    int64\n",
       "54    int64\n",
       "55    int64\n",
       "56    int64\n",
       "57    int64\n",
       "58    int64\n",
       "59    int64\n",
       "60    int64\n",
       "61    int64\n",
       "62    int64\n",
       "63    int64\n",
       "64    int64\n",
       "65    int64\n",
       "66    int64\n",
       "67    int64\n",
       "68    int64\n",
       "69    int64\n",
       "70    int64\n",
       "71    int64\n",
       "72    int64\n",
       "73    int64\n",
       "74    int64\n",
       "dtype: object"
      ]
     },
     "execution_count": 32,
     "metadata": {},
     "output_type": "execute_result"
    }
   ],
   "source": [
    "from sklearn.preprocessing import LabelEncoder\n",
    "le = LabelEncoder()\n",
    "for i in obj_col:\n",
    "    test[i] = le.fit_transform(test[i])\n",
    "test.dtypes "
   ]
  },
  {
   "cell_type": "markdown",
   "metadata": {},
   "source": [
    "### Impute missing Values"
   ]
  },
  {
   "cell_type": "code",
   "execution_count": 35,
   "metadata": {
    "collapsed": false
   },
   "outputs": [
    {
     "name": "stdout",
     "output_type": "stream",
     "text": [
      "22     6\n",
      "26    30\n",
      "27    30\n",
      "28    31\n",
      "29    30\n",
      "31    31\n",
      "54    60\n",
      "55    60\n",
      "58    60\n",
      "59    60\n",
      "dtype: int64\n"
     ]
    }
   ],
   "source": [
    "print null[(null > 0) & (null <100)]"
   ]
  },
  {
   "cell_type": "code",
   "execution_count": 37,
   "metadata": {
    "collapsed": true
   },
   "outputs": [],
   "source": [
    "train[22].fillna(train[22].median(),inplace=True)\n",
    "train[26].fillna(train[26].median(),inplace=True)\n",
    "train[27].fillna(train[27].median(),inplace=True)\n",
    "train[28].fillna(train[28].median(),inplace=True)\n",
    "train[29].fillna(train[29].median(),inplace=True)\n",
    "train[31].fillna(train[31].median(),inplace=True)\n",
    "train[54].fillna(train[54].median(),inplace=True)\n",
    "train[55].fillna(train[55].median(),inplace=True)\n",
    "train[58].fillna(train[58].median(),inplace=True)\n",
    "train[59].fillna(train[59].median(),inplace=True)"
   ]
  },
  {
   "cell_type": "code",
   "execution_count": 39,
   "metadata": {
    "collapsed": false
   },
   "outputs": [
    {
     "data": {
      "text/plain": [
       "Series([], dtype: int64)"
      ]
     },
     "execution_count": 39,
     "metadata": {},
     "output_type": "execute_result"
    }
   ],
   "source": [
    "null = train[train.columns].isnull().sum()\n",
    "null[null >0]"
   ]
  },
  {
   "cell_type": "code",
   "execution_count": 44,
   "metadata": {
    "collapsed": false
   },
   "outputs": [
    {
     "data": {
      "text/plain": [
       "0     0\n",
       "1     0\n",
       "2     0\n",
       "3     0\n",
       "4     0\n",
       "5     0\n",
       "6     0\n",
       "7     0\n",
       "8     0\n",
       "9     0\n",
       "10    0\n",
       "11    0\n",
       "12    0\n",
       "13    0\n",
       "14    0\n",
       "15    0\n",
       "16    0\n",
       "17    0\n",
       "18    0\n",
       "19    0\n",
       "20    0\n",
       "21    0\n",
       "22    0\n",
       "23    0\n",
       "24    0\n",
       "25    0\n",
       "26    0\n",
       "27    0\n",
       "28    0\n",
       "29    0\n",
       "     ..\n",
       "46    0\n",
       "47    0\n",
       "48    0\n",
       "49    0\n",
       "50    0\n",
       "51    0\n",
       "52    0\n",
       "53    0\n",
       "54    0\n",
       "55    0\n",
       "56    0\n",
       "57    0\n",
       "58    0\n",
       "59    0\n",
       "60    0\n",
       "61    0\n",
       "62    0\n",
       "63    0\n",
       "64    0\n",
       "65    0\n",
       "66    0\n",
       "67    0\n",
       "68    0\n",
       "69    0\n",
       "70    0\n",
       "71    0\n",
       "72    0\n",
       "73    0\n",
       "74    0\n",
       "75    0\n",
       "dtype: int64"
      ]
     },
     "execution_count": 44,
     "metadata": {},
     "output_type": "execute_result"
    }
   ],
   "source": [
    "train[train.columns].isnull().sum()"
   ]
  },
  {
   "cell_type": "code",
   "execution_count": 45,
   "metadata": {
    "collapsed": true
   },
   "outputs": [],
   "source": [
    "dir = r'C:\\Program Files\\mingw-w64\\x86_64-6.2.0-posix-seh-rt_v5-rev1\\mingw64\\bin'\n",
    "import os\n",
    "os.environ['PATH'].count(dir) # Here I show its already in the path at least once\n",
    "os.environ['PATH'].find(dir)\n",
    "os.environ['PATH'] = dir + ';' + os.environ['PATH'] # I put it on the beginning of the path, NOT THE END."
   ]
  },
  {
   "cell_type": "markdown",
   "metadata": {},
   "source": [
    "### Taking all variables for predicting except the 0th column"
   ]
  },
  {
   "cell_type": "code",
   "execution_count": 46,
   "metadata": {
    "collapsed": true
   },
   "outputs": [],
   "source": [
    "predictor_var = np.arange(1,75)\n",
    "outcome_var = [75]"
   ]
  },
  {
   "cell_type": "code",
   "execution_count": 53,
   "metadata": {
    "collapsed": false
   },
   "outputs": [
    {
     "name": "stdout",
     "output_type": "stream",
     "text": [
      "Accuracy: 85.13% Std.Dev. (5.81%)\n",
      "min: 0.741, mean: 0.851, max: 0.904\n",
      "Wall time: 739 ms\n"
     ]
    }
   ],
   "source": [
    "%%time\n",
    "import xgboost as xgb\n",
    "from xgboost.sklearn import XGBRegressor\n",
    "from sklearn.cross_validation import cross_val_score\n",
    "\n",
    "\n",
    "model = XGBRegressor()\n",
    "results = cross_val_score(model, train[predictor_var], train[outcome_var], cv=5)\n",
    "print(\"Accuracy: %.2f%% Std.Dev. (%.2f%%)\" % (results.mean()*100, results.std()*100))\n",
    "print(\"min: {:.3f}, mean: {:.3f}, max: {:.3f}\".format(\n",
    "    results.min(), results.mean(), results.max()))"
   ]
  },
  {
   "cell_type": "code",
   "execution_count": 54,
   "metadata": {
    "collapsed": false
   },
   "outputs": [
    {
     "name": "stdout",
     "output_type": "stream",
     "text": [
      "     Id     Prediction\n",
      "0  1051  172288.296875\n",
      "1  1052  174227.359375\n",
      "2  1053  170129.437500\n",
      "3  1054  151642.531250\n",
      "4  1055  262819.343750\n"
     ]
    }
   ],
   "source": [
    "model.fit(train[predictor_var],train[outcome_var])\n",
    "predictions = model.predict(test[predictor_var])\n",
    "file_submit=pd.DataFrame()\n",
    "file_submit['Id']=test[0]\n",
    "file_submit['Prediction']=predictions\n",
    "print file_submit.head()\n",
    "file_submit.to_csv(\"C:\\\\Users\\\\aagam\\\\Desktop\\\\reg_xgboost.csv\")"
   ]
  }
 ],
 "metadata": {
  "anaconda-cloud": {},
  "kernelspec": {
   "display_name": "Python [Root]",
   "language": "python",
   "name": "Python [Root]"
  },
  "language_info": {
   "codemirror_mode": {
    "name": "ipython",
    "version": 2
   },
   "file_extension": ".py",
   "mimetype": "text/x-python",
   "name": "python",
   "nbconvert_exporter": "python",
   "pygments_lexer": "ipython2",
   "version": "2.7.12"
  }
 },
 "nbformat": 4,
 "nbformat_minor": 0
}
