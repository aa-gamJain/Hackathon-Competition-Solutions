{
 "cells": [
  {
   "cell_type": "code",
   "execution_count": 1,
   "metadata": {
    "collapsed": false
   },
   "outputs": [
    {
     "name": "stdout",
     "output_type": "stream",
     "text": [
      "Populating the interactive namespace from numpy and matplotlib\n"
     ]
    }
   ],
   "source": [
    "import numpy as np\n",
    "import pandas as pd\n",
    "import matplotlib.pyplot as plt\n",
    "%pylab inline"
   ]
  },
  {
   "cell_type": "code",
   "execution_count": 2,
   "metadata": {
    "collapsed": true
   },
   "outputs": [],
   "source": [
    "train = pd.read_csv('C:\\\\Users\\\\aagam\\\\Desktop\\\\87f33b42-e-Dataset-3\\\\Dataset-3\\\\competition_third_train.csv')\n",
    "test = pd.read_csv('C:\\\\Users\\\\aagam\\\\Desktop\\\\87f33b42-e-Dataset-3\\\\Dataset-3\\\\compet_third_test.csv')"
   ]
  },
  {
   "cell_type": "code",
   "execution_count": 5,
   "metadata": {
    "collapsed": false
   },
   "outputs": [
    {
     "name": "stdout",
     "output_type": "stream",
     "text": [
      "Data Dimensions:  (780829, 18)\n",
      "Number of Null values in columns:  ID              0\n",
      "a               0\n",
      "b               0\n",
      "c            2006\n",
      "d          248300\n",
      "e          248300\n",
      "f               0\n",
      "g          392703\n",
      "h          392703\n",
      "i          392703\n",
      "j               0\n",
      "k               0\n",
      "predict         0\n",
      "l               0\n",
      "m               0\n",
      "n               0\n",
      "o               0\n",
      "p               0\n",
      "dtype: int64\n"
     ]
    }
   ],
   "source": [
    "print 'Data Dimensions: ',train.shape\n",
    "print 'Number of Null values in columns: ', train[train.columns].isnull().sum()"
   ]
  },
  {
   "cell_type": "code",
   "execution_count": 6,
   "metadata": {
    "collapsed": false
   },
   "outputs": [
    {
     "name": "stdout",
     "output_type": "stream",
     "text": [
      "Data Dimensions:  (100000, 17)\n",
      "Number of Null values in columns:  ID        0\n",
      "a         0\n",
      "b         0\n",
      "c       212\n",
      "d     32860\n",
      "e     32860\n",
      "f         0\n",
      "g     49332\n",
      "h     49332\n",
      "i     49332\n",
      "j         0\n",
      "k         0\n",
      "l         0\n",
      "m         0\n",
      "n         0\n",
      "o         0\n",
      "p         0\n",
      "dtype: int64\n"
     ]
    }
   ],
   "source": [
    "print 'Data Dimensions: ',test.shape\n",
    "print 'Number of Null values in columns: ', test[test.columns].isnull().sum()"
   ]
  },
  {
   "cell_type": "code",
   "execution_count": 7,
   "metadata": {
    "collapsed": false
   },
   "outputs": [
    {
     "data": {
      "text/plain": [
       "ID           int64\n",
       "a           object\n",
       "b           object\n",
       "c          float64\n",
       "d          float64\n",
       "e          float64\n",
       "f            int64\n",
       "g          float64\n",
       "h          float64\n",
       "i           object\n",
       "j            int64\n",
       "k           object\n",
       "predict      int64\n",
       "l            int64\n",
       "m            int64\n",
       "n            int64\n",
       "o           object\n",
       "p            int64\n",
       "dtype: object"
      ]
     },
     "execution_count": 7,
     "metadata": {},
     "output_type": "execute_result"
    }
   ],
   "source": [
    "train.dtypes"
   ]
  },
  {
   "cell_type": "code",
   "execution_count": 8,
   "metadata": {
    "collapsed": false
   },
   "outputs": [
    {
     "data": {
      "text/plain": [
       "<matplotlib.axes._subplots.AxesSubplot at 0x930e9e8>"
      ]
     },
     "execution_count": 8,
     "metadata": {},
     "output_type": "execute_result"
    },
    {
     "data": {
      "image/png": "[encoded data removed]",
      "text/plain": [
       "<matplotlib.figure.Figure at 0xc760eb8>"
      ]
     },
     "metadata": {},
     "output_type": "display_data"
    }
   ],
   "source": [
    "train['c'].hist()"
   ]
  },
  {
   "cell_type": "markdown",
   "metadata": {},
   "source": [
    "### Imputing Missing Values"
   ]
  },
  {
   "cell_type": "code",
   "execution_count": 9,
   "metadata": {
    "collapsed": true
   },
   "outputs": [],
   "source": [
    "train['c'].fillna(train['c'].median(),inplace=True)\n",
    "test['c'].fillna(test['c'].median(),inplace=True)"
   ]
  },
  {
   "cell_type": "markdown",
   "metadata": {},
   "source": [
    "### Transforming object type variable into integer form"
   ]
  },
  {
   "cell_type": "code",
   "execution_count": 10,
   "metadata": {
    "collapsed": true
   },
   "outputs": [],
   "source": [
    "from sklearn.preprocessing import LabelEncoder\n",
    "le = LabelEncoder()\n",
    "train['o'] = le.fit_transform(train['o'])"
   ]
  },
  {
   "cell_type": "code",
   "execution_count": 11,
   "metadata": {
    "collapsed": true
   },
   "outputs": [],
   "source": [
    "train['a'] = le.fit_transform(train['a'])\n",
    "train['b'] = le.fit_transform(train['b'])"
   ]
  },
  {
   "cell_type": "code",
   "execution_count": 12,
   "metadata": {
    "collapsed": false
   },
   "outputs": [
    {
     "data": {
      "text/plain": [
       "ID           int64\n",
       "a            int64\n",
       "b            int64\n",
       "c          float64\n",
       "d          float64\n",
       "e          float64\n",
       "f            int64\n",
       "g          float64\n",
       "h          float64\n",
       "i           object\n",
       "j            int64\n",
       "k           object\n",
       "predict      int64\n",
       "l            int64\n",
       "m            int64\n",
       "n            int64\n",
       "o            int64\n",
       "p            int64\n",
       "dtype: object"
      ]
     },
     "execution_count": 12,
     "metadata": {},
     "output_type": "execute_result"
    }
   ],
   "source": [
    "train.dtypes"
   ]
  },
  {
   "cell_type": "code",
   "execution_count": 14,
   "metadata": {
    "collapsed": true
   },
   "outputs": [],
   "source": [
    "test['o'] = le.fit_transform(test['o'])\n",
    "test['a'] = le.fit_transform(test['a'])\n",
    "test['b'] = le.fit_transform(test['b'])"
   ]
  },
  {
   "cell_type": "markdown",
   "metadata": {},
   "source": [
    "### Need to import library xgboost"
   ]
  },
  {
   "cell_type": "code",
   "execution_count": 15,
   "metadata": {
    "collapsed": true
   },
   "outputs": [],
   "source": [
    "dir = r'C:\\Program Files\\mingw-w64\\x86_64-6.2.0-posix-seh-rt_v5-rev1\\mingw64\\bin'\n",
    "import os\n",
    "os.environ['PATH'].count(dir) # Here I show its already in the path at least once\n",
    "os.environ['PATH'].find(dir)\n",
    "os.environ['PATH'] = dir + ';' + os.environ['PATH'] # I put it on the beginning of the path, NOT THE END."
   ]
  },
  {
   "cell_type": "code",
   "execution_count": 16,
   "metadata": {
    "collapsed": true
   },
   "outputs": [],
   "source": [
    "predictor_var = ['a','b','c','f','j','l','m','n','o','p']\n",
    "outcome_var = ['predict']"
   ]
  },
  {
   "cell_type": "code",
   "execution_count": 19,
   "metadata": {
    "collapsed": true
   },
   "outputs": [],
   "source": [
    "train['c'] = train['c'].astype(int64)"
   ]
  },
  {
   "cell_type": "code",
   "execution_count": 20,
   "metadata": {
    "collapsed": false
   },
   "outputs": [
    {
     "name": "stdout",
     "output_type": "stream",
     "text": [
      "Accuracy: 92.19% Std.Dev. (0.52%)\n",
      "min: 0.918, mean: 0.922, max: 0.932\n",
      "Wall time: 1min 6s\n"
     ]
    }
   ],
   "source": [
    "%%time\n",
    "import xgboost as xgb\n",
    "from xgboost.sklearn import XGBRegressor\n",
    "from sklearn.cross_validation import cross_val_score\n",
    "\n",
    "\n",
    "model = XGBRegressor()\n",
    "results = cross_val_score(model, train[predictor_var], train[outcome_var], cv=5)\n",
    "print(\"Accuracy: %.2f%% Std.Dev. (%.2f%%)\" % (results.mean()*100, results.std()*100))\n",
    "print(\"min: {:.3f}, mean: {:.3f}, max: {:.3f}\".format(\n",
    "    results.min(), results.mean(), results.max()))"
   ]
  },
  {
   "cell_type": "code",
   "execution_count": 30,
   "metadata": {
    "collapsed": false
   },
   "outputs": [],
   "source": [
    "model.fit(train[predictor_var],train[outcome_var])\n",
    "predictions = model.predict(test[predictor_var])"
   ]
  },
  {
   "cell_type": "code",
   "execution_count": 35,
   "metadata": {
    "collapsed": false
   },
   "outputs": [
    {
     "data": {
      "text/plain": [
       "-818068.19"
      ]
     },
     "execution_count": 35,
     "metadata": {},
     "output_type": "execute_result"
    }
   ],
   "source": [
    "predictions[predictions < 0 ].sum()"
   ]
  },
  {
   "cell_type": "code",
   "execution_count": 36,
   "metadata": {
    "collapsed": true
   },
   "outputs": [],
   "source": [
    "predictions[predictions < 0] = 0"
   ]
  },
  {
   "cell_type": "code",
   "execution_count": null,
   "metadata": {
    "collapsed": true
   },
   "outputs": [],
   "source": [
    "file_submit=pd.DataFrame()\n",
    "file_submit['Id']=test['ID']\n",
    "file_submit['Prediction']=predictions\n",
    "print file_submit.head()\n",
    "file_submit.to_csv(\"C:\\\\Users\\\\aagam\\\\Desktop\\\\timeseries_xgboost1.csv\")"
   ]
  },
  {
   "cell_type": "code",
   "execution_count": 23,
   "metadata": {
    "collapsed": false
   },
   "outputs": [
    {
     "data": {
      "text/plain": [
       "<matplotlib.axes._subplots.AxesSubplot at 0xc38f1d0>"
      ]
     },
     "execution_count": 23,
     "metadata": {},
     "output_type": "execute_result"
    },
    {
     "data": {
      "image/png": "[encoded data removed]",
      "text/plain": [
       "<matplotlib.figure.Figure at 0xc3991d0>"
      ]
     },
     "metadata": {},
     "output_type": "display_data"
    }
   ],
   "source": [
    "train['predict'].hist(bins=30)"
   ]
  },
  {
   "cell_type": "code",
   "execution_count": 25,
   "metadata": {
    "collapsed": false
   },
   "outputs": [
    {
     "data": {
      "text/plain": [
       "<matplotlib.axes._subplots.AxesSubplot at 0x10fbcfd0>"
      ]
     },
     "execution_count": 25,
     "metadata": {},
     "output_type": "execute_result"
    },
    {
     "data": {
      "image/png": "[encoded data removed]",
      "text/plain": [
       "<matplotlib.figure.Figure at 0x10fd0400>"
      ]
     },
     "metadata": {},
     "output_type": "display_data"
    }
   ],
   "source": [
    "file_submit['Prediction'].hist(bins=30)"
   ]
  }
 ],
 "metadata": {
  "anaconda-cloud": {},
  "kernelspec": {
   "display_name": "Python [Root]",
   "language": "python",
   "name": "Python [Root]"
  },
  "language_info": {
   "codemirror_mode": {
    "name": "ipython",
    "version": 2
   },
   "file_extension": ".py",
   "mimetype": "text/x-python",
   "name": "python",
   "nbconvert_exporter": "python",
   "pygments_lexer": "ipython2",
   "version": "2.7.12"
  }
 },
 "nbformat": 4,
 "nbformat_minor": 0
}
